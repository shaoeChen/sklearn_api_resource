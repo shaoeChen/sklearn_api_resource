{
 "cells": [
  {
   "cell_type": "markdown",
   "metadata": {
    "collapsed": true
   },
   "source": [
    "# 機器學習_ML_feature_selection_SelectKBest\n",
    "###### tags: `ML` `KNN`\n",
    "[官方說明](http://scikit-learn.org/stable/modules/generated/sklearn.feature_selection.SelectKBest.html#sklearn.feature_selection.SelectKBest)\n",
    "手上的特徵很多，有什麼方法可以讓我們快速的了解能用的有多少?一般來說我們希望相關性愈高的愈好，除了利用相關矩陣來了解之外還有其它實用的sklearn套件可以用，一起來了解其中的SelectKBest如何選擇特徵。\n",
    "* 定義K：K所指同KNN，要選擇K個最好的\n",
    "* 選擇演算法：需選擇配合的演算法來計算特徵相關性\n",
    "    * For regression: f_regression, mutual_info_regression\n",
    "    * For classification: chi2, f_classif, mutual_info_classif\n",
    "    * If you use sparse data (i.e. data represented as sparse matrices), chi2, mutual_info_regression, mutual_info_classif will deal with the data without making it dense.\n",
    "        * 稀疏矩陣的話採行上述三種演算法可保持它的稀疏性\n",
    "\n",
    "<div style=\"background:#fcf8e3\">\n",
    "很重要的一點是，不要將適用分類的演算法拿來計算迴歸，這將取得沒用的結果。  \n",
    "pvalue與卡方都是統計上的一個手法，這部份如果有興趣的話可以尋找相關文獻來閱讀。  \n",
    "</div>\n"
   ]
  },
  {
   "cell_type": "markdown",
   "metadata": {},
   "source": [
    "## IMPORT\n",
    "```python\n",
    "from sklearn.feature_selection import SelectKBest\n",
    "```\n",
    "## CLASS\n",
    "```python\n",
    "class sklearn.feature_selection.SelectKBest(score_func=<function f_classif>, k=10)\n",
    "```"
   ]
  },
  {
   "cell_type": "markdown",
   "metadata": {},
   "source": [
    "## 參數說明\n",
    "### score_func \n",
    "演算法設置，記得誤將適用於迴歸的用於分類\n",
    "* f_classif\n",
    "* mutual_info_classif\n",
    "* chi2\n",
    "* f_regression\n",
    "* mutual_info_regression\n",
    "* SelectPercentile\n",
    "* SelectFpr\n",
    "* SelectFdr\n",
    "* SelectFwe\n",
    "* GenericUnivariateSelect\n",
    "### k : int or 'all', optional, default=10\n",
    "選擇的特徵數"
   ]
  },
  {
   "cell_type": "markdown",
   "metadata": {},
   "source": [
    "## 屬性說明\n",
    "### scores_ \n",
    "特徵分數\n",
    "### pvalues_ \n",
    "特徵分數p值，如果只回傳分數的話就不會有值，取決於演算法。"
   ]
  },
  {
   "cell_type": "markdown",
   "metadata": {},
   "source": [
    "## 方法說明\n",
    "### fit(X, y)\n",
    "擬合、訓練數據\n",
    "### fit_transform(X[, y])\n",
    "擬合、訓練數據並且轉換\n",
    "fit+transform\n",
    "### get_params([deep])\n",
    "取得模型參數\n",
    "### get_support([indices])\n",
    "取得特徵索引遮罩(像pandas做過濾的時候使用)\n",
    "### inverse_transform(X)\n",
    "回傳特徵陣列，但會將get_support為false的部份以0呈現\n",
    "### set_params(\\*\\*params)\n",
    "設置模型參數\n",
    "### transform(X)\n",
    "轉換數據"
   ]
  },
  {
   "cell_type": "markdown",
   "metadata": {},
   "source": [
    "## 範例\n",
    "範例預計利用chi2([卡方檢驗_中興大學說明](http://amebse.nchu.edu.tw/new_page_659.htm))來選擇特徵\n",
    "案例取自sklearn官方"
   ]
  },
  {
   "cell_type": "code",
   "execution_count": 2,
   "metadata": {},
   "outputs": [
    {
     "data": {
      "text/plain": [
       "(150, 4)"
      ]
     },
     "execution_count": 2,
     "metadata": {},
     "output_type": "execute_result"
    }
   ],
   "source": [
    "#  import需求套件\n",
    "from sklearn.datasets import load_iris\n",
    "from sklearn.feature_selection import SelectKBest\n",
    "from sklearn.feature_selection import chi2\n",
    "\n",
    "#  讀入資料集，賦值資料與類別\n",
    "#  這是一個分類的範例\n",
    "iris = load_iris()\n",
    "X, y = iris.data, iris.target\n",
    "#  取得X的維度\n",
    "X.shape"
   ]
  },
  {
   "cell_type": "code",
   "execution_count": 4,
   "metadata": {},
   "outputs": [
    {
     "data": {
      "text/plain": [
       "(150, 2)"
      ]
     },
     "execution_count": 4,
     "metadata": {},
     "output_type": "execute_result"
    }
   ],
   "source": [
    "#  利用KBest選擇2個特徵\n",
    "kbest = SelectKBest(chi2, k=2)\n",
    "X_new = kbest.fit_transform(X, y)\n",
    "X_new.shape"
   ]
  },
  {
   "cell_type": "code",
   "execution_count": 5,
   "metadata": {},
   "outputs": [
    {
     "data": {
      "text/plain": [
       "{'k': 2,\n",
       " 'score_func': <function sklearn.feature_selection.univariate_selection.chi2(X, y)>}"
      ]
     },
     "execution_count": 5,
     "metadata": {},
     "output_type": "execute_result"
    }
   ],
   "source": [
    "#  取得參數可以看到我們使用的是chi2(卡方)演算法\n",
    "kbest.get_params()"
   ]
  },
  {
   "cell_type": "code",
   "execution_count": 6,
   "metadata": {},
   "outputs": [
    {
     "data": {
      "text/plain": [
       "array([False, False,  True,  True])"
      ]
     },
     "execution_count": 6,
     "metadata": {},
     "output_type": "execute_result"
    }
   ],
   "source": [
    "#  從回傳的特徵索引可以用來查看我們的特徵\n",
    "kbest.get_support()"
   ]
  },
  {
   "cell_type": "code",
   "execution_count": 7,
   "metadata": {},
   "outputs": [
    {
     "data": {
      "text/plain": [
       "array([[0. , 0. , 1.4, 0.2],\n",
       "       [0. , 0. , 1.4, 0.2],\n",
       "       [0. , 0. , 1.3, 0.2],\n",
       "       [0. , 0. , 1.5, 0.2],\n",
       "       [0. , 0. , 1.4, 0.2],\n",
       "       [0. , 0. , 1.7, 0.4],\n",
       "       [0. , 0. , 1.4, 0.3],\n",
       "       [0. , 0. , 1.5, 0.2],\n",
       "       [0. , 0. , 1.4, 0.2],\n",
       "       [0. , 0. , 1.5, 0.1],\n",
       "       [0. , 0. , 1.5, 0.2],\n",
       "       [0. , 0. , 1.6, 0.2],\n",
       "       [0. , 0. , 1.4, 0.1],\n",
       "       [0. , 0. , 1.1, 0.1],\n",
       "       [0. , 0. , 1.2, 0.2],\n",
       "       [0. , 0. , 1.5, 0.4],\n",
       "       [0. , 0. , 1.3, 0.4],\n",
       "       [0. , 0. , 1.4, 0.3],\n",
       "       [0. , 0. , 1.7, 0.3],\n",
       "       [0. , 0. , 1.5, 0.3],\n",
       "       [0. , 0. , 1.7, 0.2],\n",
       "       [0. , 0. , 1.5, 0.4],\n",
       "       [0. , 0. , 1. , 0.2],\n",
       "       [0. , 0. , 1.7, 0.5],\n",
       "       [0. , 0. , 1.9, 0.2],\n",
       "       [0. , 0. , 1.6, 0.2],\n",
       "       [0. , 0. , 1.6, 0.4],\n",
       "       [0. , 0. , 1.5, 0.2],\n",
       "       [0. , 0. , 1.4, 0.2],\n",
       "       [0. , 0. , 1.6, 0.2],\n",
       "       [0. , 0. , 1.6, 0.2],\n",
       "       [0. , 0. , 1.5, 0.4],\n",
       "       [0. , 0. , 1.5, 0.1],\n",
       "       [0. , 0. , 1.4, 0.2],\n",
       "       [0. , 0. , 1.5, 0.1],\n",
       "       [0. , 0. , 1.2, 0.2],\n",
       "       [0. , 0. , 1.3, 0.2],\n",
       "       [0. , 0. , 1.5, 0.1],\n",
       "       [0. , 0. , 1.3, 0.2],\n",
       "       [0. , 0. , 1.5, 0.2],\n",
       "       [0. , 0. , 1.3, 0.3],\n",
       "       [0. , 0. , 1.3, 0.3],\n",
       "       [0. , 0. , 1.3, 0.2],\n",
       "       [0. , 0. , 1.6, 0.6],\n",
       "       [0. , 0. , 1.9, 0.4],\n",
       "       [0. , 0. , 1.4, 0.3],\n",
       "       [0. , 0. , 1.6, 0.2],\n",
       "       [0. , 0. , 1.4, 0.2],\n",
       "       [0. , 0. , 1.5, 0.2],\n",
       "       [0. , 0. , 1.4, 0.2],\n",
       "       [0. , 0. , 4.7, 1.4],\n",
       "       [0. , 0. , 4.5, 1.5],\n",
       "       [0. , 0. , 4.9, 1.5],\n",
       "       [0. , 0. , 4. , 1.3],\n",
       "       [0. , 0. , 4.6, 1.5],\n",
       "       [0. , 0. , 4.5, 1.3],\n",
       "       [0. , 0. , 4.7, 1.6],\n",
       "       [0. , 0. , 3.3, 1. ],\n",
       "       [0. , 0. , 4.6, 1.3],\n",
       "       [0. , 0. , 3.9, 1.4],\n",
       "       [0. , 0. , 3.5, 1. ],\n",
       "       [0. , 0. , 4.2, 1.5],\n",
       "       [0. , 0. , 4. , 1. ],\n",
       "       [0. , 0. , 4.7, 1.4],\n",
       "       [0. , 0. , 3.6, 1.3],\n",
       "       [0. , 0. , 4.4, 1.4],\n",
       "       [0. , 0. , 4.5, 1.5],\n",
       "       [0. , 0. , 4.1, 1. ],\n",
       "       [0. , 0. , 4.5, 1.5],\n",
       "       [0. , 0. , 3.9, 1.1],\n",
       "       [0. , 0. , 4.8, 1.8],\n",
       "       [0. , 0. , 4. , 1.3],\n",
       "       [0. , 0. , 4.9, 1.5],\n",
       "       [0. , 0. , 4.7, 1.2],\n",
       "       [0. , 0. , 4.3, 1.3],\n",
       "       [0. , 0. , 4.4, 1.4],\n",
       "       [0. , 0. , 4.8, 1.4],\n",
       "       [0. , 0. , 5. , 1.7],\n",
       "       [0. , 0. , 4.5, 1.5],\n",
       "       [0. , 0. , 3.5, 1. ],\n",
       "       [0. , 0. , 3.8, 1.1],\n",
       "       [0. , 0. , 3.7, 1. ],\n",
       "       [0. , 0. , 3.9, 1.2],\n",
       "       [0. , 0. , 5.1, 1.6],\n",
       "       [0. , 0. , 4.5, 1.5],\n",
       "       [0. , 0. , 4.5, 1.6],\n",
       "       [0. , 0. , 4.7, 1.5],\n",
       "       [0. , 0. , 4.4, 1.3],\n",
       "       [0. , 0. , 4.1, 1.3],\n",
       "       [0. , 0. , 4. , 1.3],\n",
       "       [0. , 0. , 4.4, 1.2],\n",
       "       [0. , 0. , 4.6, 1.4],\n",
       "       [0. , 0. , 4. , 1.2],\n",
       "       [0. , 0. , 3.3, 1. ],\n",
       "       [0. , 0. , 4.2, 1.3],\n",
       "       [0. , 0. , 4.2, 1.2],\n",
       "       [0. , 0. , 4.2, 1.3],\n",
       "       [0. , 0. , 4.3, 1.3],\n",
       "       [0. , 0. , 3. , 1.1],\n",
       "       [0. , 0. , 4.1, 1.3],\n",
       "       [0. , 0. , 6. , 2.5],\n",
       "       [0. , 0. , 5.1, 1.9],\n",
       "       [0. , 0. , 5.9, 2.1],\n",
       "       [0. , 0. , 5.6, 1.8],\n",
       "       [0. , 0. , 5.8, 2.2],\n",
       "       [0. , 0. , 6.6, 2.1],\n",
       "       [0. , 0. , 4.5, 1.7],\n",
       "       [0. , 0. , 6.3, 1.8],\n",
       "       [0. , 0. , 5.8, 1.8],\n",
       "       [0. , 0. , 6.1, 2.5],\n",
       "       [0. , 0. , 5.1, 2. ],\n",
       "       [0. , 0. , 5.3, 1.9],\n",
       "       [0. , 0. , 5.5, 2.1],\n",
       "       [0. , 0. , 5. , 2. ],\n",
       "       [0. , 0. , 5.1, 2.4],\n",
       "       [0. , 0. , 5.3, 2.3],\n",
       "       [0. , 0. , 5.5, 1.8],\n",
       "       [0. , 0. , 6.7, 2.2],\n",
       "       [0. , 0. , 6.9, 2.3],\n",
       "       [0. , 0. , 5. , 1.5],\n",
       "       [0. , 0. , 5.7, 2.3],\n",
       "       [0. , 0. , 4.9, 2. ],\n",
       "       [0. , 0. , 6.7, 2. ],\n",
       "       [0. , 0. , 4.9, 1.8],\n",
       "       [0. , 0. , 5.7, 2.1],\n",
       "       [0. , 0. , 6. , 1.8],\n",
       "       [0. , 0. , 4.8, 1.8],\n",
       "       [0. , 0. , 4.9, 1.8],\n",
       "       [0. , 0. , 5.6, 2.1],\n",
       "       [0. , 0. , 5.8, 1.6],\n",
       "       [0. , 0. , 6.1, 1.9],\n",
       "       [0. , 0. , 6.4, 2. ],\n",
       "       [0. , 0. , 5.6, 2.2],\n",
       "       [0. , 0. , 5.1, 1.5],\n",
       "       [0. , 0. , 5.6, 1.4],\n",
       "       [0. , 0. , 6.1, 2.3],\n",
       "       [0. , 0. , 5.6, 2.4],\n",
       "       [0. , 0. , 5.5, 1.8],\n",
       "       [0. , 0. , 4.8, 1.8],\n",
       "       [0. , 0. , 5.4, 2.1],\n",
       "       [0. , 0. , 5.6, 2.4],\n",
       "       [0. , 0. , 5.1, 2.3],\n",
       "       [0. , 0. , 5.1, 1.9],\n",
       "       [0. , 0. , 5.9, 2.3],\n",
       "       [0. , 0. , 5.7, 2.5],\n",
       "       [0. , 0. , 5.2, 2.3],\n",
       "       [0. , 0. , 5. , 1.9],\n",
       "       [0. , 0. , 5.2, 2. ],\n",
       "       [0. , 0. , 5.4, 2.3],\n",
       "       [0. , 0. , 5.1, 1.8]])"
      ]
     },
     "execution_count": 7,
     "metadata": {},
     "output_type": "execute_result"
    }
   ],
   "source": [
    "#  回傳資料集，並且僅保留兩個特徵的值\n",
    "kbest.inverse_transform(X_new)"
   ]
  },
  {
   "cell_type": "code",
   "execution_count": 8,
   "metadata": {},
   "outputs": [
    {
     "data": {
      "text/plain": [
       "array([4.47651499e-03, 1.65754167e-01, 5.94344354e-26, 2.50017968e-15])"
      ]
     },
     "execution_count": 8,
     "metadata": {},
     "output_type": "execute_result"
    }
   ],
   "source": [
    "#  查詢pvalue，因為chi2有，所以有回傳值\n",
    "kbest.pvalues_ "
   ]
  }
 ],
 "metadata": {
  "kernelspec": {
   "display_name": "Python 3",
   "language": "python",
   "name": "python3"
  },
  "language_info": {
   "codemirror_mode": {
    "name": "ipython",
    "version": 3
   },
   "file_extension": ".py",
   "mimetype": "text/x-python",
   "name": "python",
   "nbconvert_exporter": "python",
   "pygments_lexer": "ipython3",
   "version": "3.6.1"
  }
 },
 "nbformat": 4,
 "nbformat_minor": 1
}
