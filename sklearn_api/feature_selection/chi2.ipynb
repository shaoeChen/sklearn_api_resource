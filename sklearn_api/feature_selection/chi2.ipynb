{
 "cells": [
  {
   "cell_type": "markdown",
   "metadata": {},
   "source": [
    "# 機器學習_ML_feature_selection.chi2(卡方檢驗)\n",
    "###### tags: `ML` `feature_selection` `chi2` `卡方檢驗`\n",
    "## 說明\n",
    "簡單計算範例，如有錯誤敬請指正  \n",
    "\n",
    "卡方反應了觀察值(O)與期望值(E)的吻合程度，並以O、E計算出$X2$，屬類別資料統計，每個類別儲存格的資料不小於5。  \n",
    "\n",
    "假如一個城市內感冒流行，我們想知道A、B這兩種藥物對感冒的症頭是否在舒解上有沒有效用上的差異。我們有下面70名用藥人的統計。  \n",
    "$H_0$，有效無效跟藥無關  \n",
    "$H_1$，有效無效跟藥有關  \n",
    "\n",
    "|| 有效 | 無效 | 合計| 有效率 |\n",
    "|--------| -------- | -------- | -------- | -------- |\n",
    "|A| 10     | 15     | 25     |0.4|\n",
    "|B| 15     | 30     | 45     |0.33|\n",
    "|合計| 25     | 45     | 70     |0.36|\n",
    "\n",
    "\n",
    "|| 有效(O) |有效期望(E)| 無效 (O)|無效期望(E)| 合計| 有效率 |\n",
    "|--------| --------| --------| -------- | -------- | -------- | -------- |\n",
    "|A| 10  |  8.9 | 15    | 16.1| 25     |0.4|\n",
    "|B| 15    | 16.1| 30    |28.9 | 45     |0.33|\n",
    "|合計| 25   |  | 45   |  | 70     |0.36|\n",
    "\n",
    "期望值=$\\frac{Column*Row}{n}$  \n",
    "$AE$有效$=25*25/70=8.9$  \n",
    "$AB$有效$=45*25/70=16.1$  \n",
    "$AE$無效$=25*45/70=16.1$  \n",
    "$AB$無效$=45*45/70=28.9$  \n",
    "\n",
    "|| 有效(O) |有效期望(E)|有效卡方($X^2$)| 無效 (O)|無效期望(E)|無效卡方($X^2$)| 合計| 有效率 |\n",
    "|--------| --------|--------| --------| -------- | -------- | -------- | -------- |-------- |\n",
    "|A| 10  |  8.9 |0.136| 15    | 16.1|0.075| 25     |0.4|\n",
    "|B| 15    | 16.1|0.075| 30    |28.9 |0.042| 45     |0.33|\n",
    "|合計| 25   | | | 45   |  | |70     |0.36|\n",
    "有了O、E就可以計算卡方($\\frac{(O-E)^2}{E}$)  \n",
    "$AX^2$有效$=\\frac{(10-8.9)^2}{8.9}=0.136$  \n",
    "$AB^2$有效$=\\frac{(15-16.1)^2}{16.1}=0.075$  \n",
    "$AX^2$無效$=\\frac{(15-16.1)^2}{16.1}=0.075$  \n",
    "$AB^2$無效$=\\frac{(30-28.9)^2}{28.9}=0.042$  \n",
    "$0.136+0.075+0.075+0.042=0.328$  \n",
    "自由度為$df=1$((欄數-1)\\*(列數-1))，$\\alpha$一般為$0.05$，利用excel或google driver指令『=CHIINV(0.05,1)』得到臨界值為$3.84$  \n",
    "$0.328<3.84$，接受$h_0$，或者利用卡方表查詢得知$X^2=0.328$，P會大於0.05，接受$h_0$，也就是代表這兩個藥在感冒的舒解上是沒有差異的。  \n",
    "也因此，當期望值(E)愈接近觀測值(O)的時候所得卡方值是愈小的，那就會接受$H_0$的假設，即是無相關性。  \n",
    "換言之，我們在選擇特徵的時候就會希望取卡方值愈大愈好，愈大代表相關性愈高!  \n",
    ">![](https://i.imgur.com/GrHafK5.png)  \n",
    ">> 資料取自：https://www.medcalc.org/manual/chi-square-table.php"
   ]
  },
  {
   "cell_type": "markdown",
   "metadata": {},
   "source": [
    "## 範例"
   ]
  },
  {
   "cell_type": "code",
   "execution_count": 1,
   "metadata": {
    "collapsed": true
   },
   "outputs": [],
   "source": [
    "#  利用scipy計算卡方\n",
    "from scipy import stats\n",
    "import numpy as np"
   ]
  },
  {
   "cell_type": "code",
   "execution_count": 2,
   "metadata": {
    "collapsed": true
   },
   "outputs": [],
   "source": [
    "#  設置資料\n",
    "data = np.array([[10, 15],\n",
    "                 [15, 30]])"
   ]
  },
  {
   "cell_type": "code",
   "execution_count": 10,
   "metadata": {
    "collapsed": true
   },
   "outputs": [],
   "source": [
    "chi2, p, dof, expected = stats.chi2_contingency(data, False)"
   ]
  },
  {
   "cell_type": "code",
   "execution_count": 11,
   "metadata": {},
   "outputs": [
    {
     "data": {
      "text/plain": [
       "array([[  8.92857143,  16.07142857],\n",
       "       [ 16.07142857,  28.92857143]])"
      ]
     },
     "execution_count": 11,
     "metadata": {},
     "output_type": "execute_result"
    }
   ],
   "source": [
    "#  期望值矩陣\n",
    "expected"
   ]
  },
  {
   "cell_type": "code",
   "execution_count": 12,
   "metadata": {},
   "outputs": [
    {
     "data": {
      "text/plain": [
       "1"
      ]
     },
     "execution_count": 12,
     "metadata": {},
     "output_type": "execute_result"
    }
   ],
   "source": [
    "#  自由度\n",
    "dof"
   ]
  },
  {
   "cell_type": "code",
   "execution_count": 13,
   "metadata": {},
   "outputs": [
    {
     "data": {
      "text/plain": [
       "0.57699916224874026"
      ]
     },
     "execution_count": 13,
     "metadata": {},
     "output_type": "execute_result"
    }
   ],
   "source": [
    "#  p-value\n",
    "p"
   ]
  },
  {
   "cell_type": "code",
   "execution_count": 14,
   "metadata": {},
   "outputs": [
    {
     "data": {
      "text/plain": [
       "0.31111111111111156"
      ]
     },
     "execution_count": 14,
     "metadata": {},
     "output_type": "execute_result"
    }
   ],
   "source": [
    "#  chi卡方\n",
    "chi2"
   ]
  },
  {
   "cell_type": "code",
   "execution_count": 15,
   "metadata": {},
   "outputs": [
    {
     "data": {
      "text/plain": [
       "0.31111111111111156"
      ]
     },
     "execution_count": 15,
     "metadata": {},
     "output_type": "execute_result"
    }
   ],
   "source": [
    "#  差異來自於小數點取位，所以跟上面的計算數值不同\n",
    "np.sum((np.square(data-expected))/expected)"
   ]
  },
  {
   "cell_type": "markdown",
   "metadata": {},
   "source": [
    "## 其它\n",
    "[參考說明](http://www.cnblogs.com/dacc123/p/8746247.html)"
   ]
  }
 ],
 "metadata": {
  "kernelspec": {
   "display_name": "Python 3",
   "language": "python",
   "name": "python3"
  },
  "language_info": {
   "codemirror_mode": {
    "name": "ipython",
    "version": 3
   },
   "file_extension": ".py",
   "mimetype": "text/x-python",
   "name": "python",
   "nbconvert_exporter": "python",
   "pygments_lexer": "ipython3",
   "version": "3.6.1"
  }
 },
 "nbformat": 4,
 "nbformat_minor": 2
}
