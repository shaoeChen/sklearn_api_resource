{
 "cells": [
  {
   "cell_type": "markdown",
   "metadata": {},
   "source": [
    "# 機器學習_ML_MLPClassifier\n",
    "[官方連結](http://scikit-learn.org/stable/modules/generated/sklearn.neural_network.MLPClassifier.html#sklearn.neural_network.MLPClassifier)  \n",
    "This model optimizes the log-loss function using **LBFGS** or **stochastic gradient descent**.  \n",
    "這說明了，在sklearn中，MLP是利用隨機梯度或是LBFGS來做權重(參數)$\\theta$的計算。  \n",
    "神經網路是最近非常熱門的一門顯學，MLP意為多層類神經網路。何謂多層，即有輸入層、輸出層跟至少一個隱藏層。  \n",
    "![](https://i.imgur.com/3ko2rlj.png)  \n",
    "借用了官網照片，X那層即為輸入層，OUPUT即為輸出層，中間的a即為隱藏層。  \n",
    "下層單元與上層各單位都會有交錯到!  \n",
    "一般的表示方式為$a^{(2)}$代表第二層。  \n",
    "借用吳恩達老師上課的一個式子  \n",
    "$a_1^{(2)} = g(\\Theta_{10}^{(1)}x_0 + \\Theta_{11}^{(1)}x_1 + \\Theta_{12}^{(1)}x_2 + \\Theta_{13}^{(1)}x_3)$  \n",
    "$\\Theta$的下標的部份，$\\Theta_{10}$中的1所指為下一層所對應單元，0為這一層的對應單元。  \n",
    "所以$a^{(2)}_1=\\Theta^{(1)}_{10}+....$就是，第二層的第一個單元來自於第一層的第0+1+2+3單元的值。  \n",
    "注意到後面的啟動函式是$\\Theta^1$。  \n",
    "而$\\Theta$即為權重(參數)  \n",
    "這邊主要談的是實用性，所以對於觀念性的部份就不多說，再另外補充  "
   ]
  },
  {
   "cell_type": "markdown",
   "metadata": {},
   "source": [
    "## 優缺點\n",
    "優點：  \n",
    "* Capability to learn non-linear models.\n",
    "* Capability to learn models in real-time (on-line learning) using partial_fit.\n",
    "\n",
    "缺點：  \n",
    "* MLP with hidden layers have a non-convex loss function where there exists more than one local minimum. Therefore different random weight initializations can lead to different validation accuracy.\n",
    "* MLP requires tuning a number of hyperparameters such as the number of hidden neurons, layers, and iterations.\n",
    "* MLP is sensitive to feature scaling.\n",
    "\n",
    "sklearn官方說明中也提到兩個關於MLP的優點，第一點是可以學習非線性模型，第二點是可以做線上學習，所以它就會有partial_fit這個method可以使用。缺點的部份在於，隱藏層有著non_convex的特性，所以不同的權重初始會有可能落入不同的局部最優，而非全域最優，以及MLP需調的參數很多很多，MLP對特徵縮放很敏感(記得做標準化StandardScaler([可參考官方說明搭配pipeline與gridsearchcv取alpha參數](http://scikit-learn.org/stable/modules/neural_networks_supervised.html#mlp-tips)))。"
   ]
  },
  {
   "cell_type": "markdown",
   "metadata": {},
   "source": [
    "## IMPORT\n",
    "```\n",
    "from sklearn.neural_network import MLPClassifier\n",
    "```"
   ]
  },
  {
   "cell_type": "markdown",
   "metadata": {},
   "source": [
    "## CLASS\n",
    "```\n",
    "MLPClassifier(hidden_layer_sizes=(100, ), \n",
    "              activation=’relu’, \n",
    "              solver=’adam’, \n",
    "              alpha=0.0001, \n",
    "              batch_size=’auto’, \n",
    "              learning_rate=’constant’, \n",
    "              learning_rate_init=0.001, \n",
    "              power_t=0.5, \n",
    "              max_iter=200, \n",
    "              shuffle=True, \n",
    "              random_state=None, \n",
    "              tol=0.0001, \n",
    "              verbose=False, \n",
    "              warm_start=False, \n",
    "              momentum=0.9, \n",
    "              nesterovs_momentum=True, \n",
    "              early_stopping=False, \n",
    "              validation_fraction=0.1, \n",
    "              beta_1=0.9, \n",
    "              beta_2=0.999, \n",
    "              epsilon=1e-08)\n",
    "```"
   ]
  },
  {
   "cell_type": "markdown",
   "metadata": {},
   "source": [
    "## 參數說明\n",
    "### hidden_layer_sizes=(100, 2)\n",
    "default 100  \n",
    "隱藏層的數量(指單元數，而非有幾層。)  \n",
    "### activation\n",
    "default relu {identity, logistic, tanh, relu}  \n",
    "啟動函數\n",
    "* identity, no-op activation, useful to implement linear bottleneck, returns f(x) = x\n",
    "* logistic, the logistic sigmoid function, returns f(x) = 1 / (1 + exp(-x)).\n",
    "* tanh, the hyperbolic tan function, returns f(x) = tanh(x).\n",
    "* relu, the rectified linear unit function, returns f(x) = max(0, x)\n",
    "\n",
    "\n",
    "### solver\n",
    "default adam {lbfgs, adam, sgd}  \n",
    "優化方式  \n",
    "官方建議，在小型的資料集中使用L-BFGS   \n",
    "\n",
    "|資料集|方式|\n",
    "|-----|-----|\n",
    "|小|lbfgs|\n",
    "|大|adam|\n",
    "\n",
    "sgd(隨機梯度下降，batch)，如果學習效率(learning_rate)有調校好的話，那使用sgd的效果會較上述兩個佳。\n",
    "### alpha\n",
    "default 0.0001\n",
    "L2正規化參數\n",
    "### batch_size\n",
    "default auto(200, n_samples)\n",
    "如果solver是lbfgs，則不考慮\n",
    "### learning_rate\n",
    "default constant {constant, invscaling, adaptive}  \n",
    "**Only used when solver='sgd'.**  \n",
    "constant:不變，依learning_rate_init  \n",
    "invscaling:逐漸減小，effective_learning_rate = learning_rate_init / pow(t, power_t)  \n",
    "adaptive:只要成本函數保持下降，那學習效率就會保持不變。但是當不能有效降低至tol，或當early_stopping=on，不能增加驗證分數的時候，那學習效率就會/5\n",
    "### learning_rate_init\n",
    "default 0.001  \n",
    "**Only used when solver=’sgd’ or ‘adam’.**  \n",
    "### power_t\n",
    "default 0.5  \n",
    "**Only used when solver=’sgd’.**  \n",
    "反縮放學習效率的指數，當learning_rate=invscaling時用來更新學習效率用。  \n",
    "### max_iter \n",
    "default 200  \n",
    "最大迭代次數，看是先到tol還是先到max_iter。  \n",
    "但是在sgd與adam的時候似乎不是用於此?  \n",
    "For stochastic solvers (‘sgd’, ‘adam’), note that this determines the number of epochs (how many times each data point will be used), not the number of gradient steps.\n",
    "### shuffle\n",
    "default True {True, False}  \n",
    "每次的迭次是否要亂數洗牌。    \n",
    "Only used when solver=’sgd’ or ‘adam’.  \n",
    "### random_state\n",
    "default None  \n",
    "隨機數種子  \n",
    "### tol\n",
    "default 0.0001  \n",
    "假如連續兩次的迭代無法降低成本函數，或是得分無法增加，除非learning_rate='adaptive'，不然就當做已經收斂完成而結束。  \n",
    "### verbose \n",
    "default 0  \n",
    "過程是否輸出   \n",
    "0不輸出  \n",
    "1偶爾輸出  \n",
    "2一定輸出  \n",
    "### warm_start\n",
    "default False {True, False}  \n",
    "[官方說明](http://scikit-learn.org/stable/modules/neural_networks_supervised.html#more-control-with-warm-start)\n",
    "如果你想做更多的監控來了解模型走向的話，就可以自己寫for來配合使用。  \n",
    "### momentum\n",
    "default 0.9  \n",
    "配合sgd的一個動量設置，(0-1)  \n",
    "$\\begin{equation}  \n",
    "\\Delta x_{t}=\\rho \\Delta x_{t-1} - \\eta g_{t}   \n",
    "\\end{equation}$中的$\\rho$  \n",
    "### nesterovs_momentum\n",
    "default True {True, False}  \n",
    "nesterovs_momentum是momentum的一個改良。  \n",
    "只用於sgd與momentum>0  \n",
    "### early_stopping  \n",
    "default False {True, False}  \n",
    "設置用於當驗證得分沒有改善的時候是否要提早結束。  \n",
    "如果設置True的話，則會自動拿10%數據集來做驗證，當最後兩次的迭代都沒有改善的時候就會停止。  \n",
    "Only effective when solver=’sgd’ or ‘adam’  \n",
    "### validation_fraction\n",
    "default 0.1  \n",
    "驗證數據比例，early_stopping=True的時候有效。  \n",
    "### beta_1\n",
    "default 0.9(0-1)  \n",
    "Only used when solver=’adam’  \n",
    "### beta_2  \n",
    "default 0.999(0-1)  \n",
    "Only used when solver=’adam’  \n",
    "### epsilon\n",
    "default 1e-8  \n",
    "Only used when solver=’adam’  "
   ]
  },
  {
   "cell_type": "markdown",
   "metadata": {},
   "source": [
    "## 方法\n",
    "### fit(X, y)\n",
    "適合(訓練、擬合)資料集\n",
    "### get_params([deep])\n",
    "取得參數\n",
    "### predict(X)\n",
    "回傳預測分類\n",
    "### predict_log_proba(X)\n",
    "回傳類別概率(機率、或然率)對數\n",
    "### predict_proba(X)\n",
    "回傳類別概率(機率、或然率)\n",
    "### score(X, y[, sample_weight])\n",
    "Returns the **mean accuracy** on the given test data and labels.\n",
    "### set_params(**params)\n",
    "設置參數\n",
    "### partial_fit\n",
    "線上適合(訓練、擬合)資料集"
   ]
  },
  {
   "cell_type": "markdown",
   "metadata": {},
   "source": [
    "## 屬性\n",
    "### classes\\_ \n",
    "array or list of array of shape (n_classes,)  \n",
    "每個輸出的label  \n",
    "### loss\\_ \n",
    "float  \n",
    "成本函數的值  \n",
    "### coefs\\_  \n",
    "list, length n_layers - 1  \n",
    "第i個元素表示對應於第i層的權重矩陣。  \n",
    "$a^{(j)} = g(z^{(j)})$  \n",
    "$z^{(j+1)} = \\Theta^{(j)}a^{(j)}$  \n",
    "### intercepts_    \n",
    "list, length n_layers - 1  \n",
    "回傳第i個元素與層i+1相對應的偏置向量。  \n",
    "$a^{(j)} = g(z^{(j)})$  \n",
    "$z^{(j+1)} = \\Theta^{(j)}a^{(j)}$  \n",
    "### n\\_iter\\_ \n",
    "int  \n",
    "終止計算的時候做了幾次的迭代  \n",
    "### n\\_layers\\_\n",
    "int  \n",
    "這個多層神經網路有幾層  \n",
    "### n\\_outputs\\_ \n",
    "int  \n",
    "輸出單元的數量  \n",
    "### out\\_activation\\_   \n",
    "string  \n",
    "回傳啟動函數的名稱  "
   ]
  },
  {
   "cell_type": "markdown",
   "metadata": {},
   "source": [
    "## 範例\n",
    "取自[官方網站](http://scikit-learn.org/stable/auto_examples/neural_networks/plot_mnist_filters.html#sphx-glr-auto-examples-neural-networks-plot-mnist-filters-py)"
   ]
  },
  {
   "cell_type": "code",
   "execution_count": 1,
   "metadata": {
    "collapsed": true
   },
   "outputs": [],
   "source": [
    "#  載入需求套件\n",
    "import matplotlib.pyplot as plt\n",
    "from sklearn.datasets import fetch_mldata\n",
    "from sklearn.neural_network import MLPClassifier\n",
    "%matplotlib inline"
   ]
  },
  {
   "cell_type": "code",
   "execution_count": 2,
   "metadata": {
    "collapsed": true
   },
   "outputs": [],
   "source": [
    "#  取手寫辨視的資料集\n",
    "mnist = fetch_mldata(\"MNIST original\")\n",
    "# rescale the data, use the traditional train/test split\n",
    "X, y = mnist.data / 255., mnist.target  #  /255的部份就單純的簡單的標準化\n",
    "X_train, X_test = X[:60000], X[60000:]\n",
    "y_train, y_test = y[:60000], y[60000:]"
   ]
  },
  {
   "cell_type": "code",
   "execution_count": 3,
   "metadata": {
    "collapsed": true
   },
   "outputs": [],
   "source": [
    "#  實作模型\n",
    "mlp = MLPClassifier(hidden_layer_sizes=(50,), max_iter=10, alpha=1e-4,\n",
    "                    solver='sgd', verbose=10, tol=1e-4, random_state=1,\n",
    "                    learning_rate_init=.1)"
   ]
  },
  {
   "cell_type": "code",
   "execution_count": 4,
   "metadata": {},
   "outputs": [
    {
     "name": "stdout",
     "output_type": "stream",
     "text": [
      "Iteration 1, loss = 0.32212731\n",
      "Iteration 2, loss = 0.15738787\n",
      "Iteration 3, loss = 0.11647274\n",
      "Iteration 4, loss = 0.09631113\n",
      "Iteration 5, loss = 0.08074513\n",
      "Iteration 6, loss = 0.07163224\n",
      "Iteration 7, loss = 0.06351392\n",
      "Iteration 8, loss = 0.05694146\n",
      "Iteration 9, loss = 0.05213487\n",
      "Iteration 10, loss = 0.04708320\n"
     ]
    },
    {
     "name": "stderr",
     "output_type": "stream",
     "text": [
      "C:\\ProgramData\\Anaconda3\\lib\\site-packages\\sklearn\\neural_network\\multilayer_perceptron.py:563: ConvergenceWarning: Stochastic Optimizer: Maximum iterations reached and the optimization hasn't converged yet.\n",
      "  % (), ConvergenceWarning)\n"
     ]
    },
    {
     "data": {
      "text/plain": [
       "MLPClassifier(activation='relu', alpha=0.0001, batch_size='auto', beta_1=0.9,\n",
       "       beta_2=0.999, early_stopping=False, epsilon=1e-08,\n",
       "       hidden_layer_sizes=(50,), learning_rate='constant',\n",
       "       learning_rate_init=0.1, max_iter=10, momentum=0.9,\n",
       "       nesterovs_momentum=True, power_t=0.5, random_state=1, shuffle=True,\n",
       "       solver='sgd', tol=0.0001, validation_fraction=0.1, verbose=10,\n",
       "       warm_start=False)"
      ]
     },
     "execution_count": 4,
     "metadata": {},
     "output_type": "execute_result"
    }
   ],
   "source": [
    "#  訓練模型\n",
    "mlp.fit(X_train, y_train)"
   ]
  },
  {
   "cell_type": "code",
   "execution_count": 5,
   "metadata": {},
   "outputs": [
    {
     "name": "stdout",
     "output_type": "stream",
     "text": [
      "Training set score: 0.985733\n",
      "Test set score: 0.971000\n"
     ]
    }
   ],
   "source": [
    "print(\"Training set score: %f\" % mlp.score(X_train, y_train))\n",
    "print(\"Test set score: %f\" % mlp.score(X_test, y_test))"
   ]
  },
  {
   "cell_type": "code",
   "execution_count": 6,
   "metadata": {},
   "outputs": [
    {
     "data": {
      "image/png": "[encoded data removed]",
      "text/plain": [
       "<matplotlib.figure.Figure at 0x1723b66cc18>"
      ]
     },
     "metadata": {},
     "output_type": "display_data"
    }
   ],
   "source": [
    "#  繪圖\n",
    "fig, axes = plt.subplots(4, 4)\n",
    "# use global min / max to ensure all weights are shown on the same scale\n",
    "vmin, vmax = mlp.coefs_[0].min(), mlp.coefs_[0].max()\n",
    "for coef, ax in zip(mlp.coefs_[0].T, axes.ravel()):\n",
    "    ax.matshow(coef.reshape(28, 28), cmap=plt.cm.gray, vmin=.5 * vmin,\n",
    "               vmax=.5 * vmax)\n",
    "    ax.set_xticks(())\n",
    "    ax.set_yticks(())\n",
    "\n",
    "plt.show()"
   ]
  }
 ],
 "metadata": {
  "kernelspec": {
   "display_name": "Python 3",
   "language": "python",
   "name": "python3"
  },
  "language_info": {
   "codemirror_mode": {
    "name": "ipython",
    "version": 3
   },
   "file_extension": ".py",
   "mimetype": "text/x-python",
   "name": "python",
   "nbconvert_exporter": "python",
   "pygments_lexer": "ipython3",
   "version": "3.6.1"
  }
 },
 "nbformat": 4,
 "nbformat_minor": 2
}
