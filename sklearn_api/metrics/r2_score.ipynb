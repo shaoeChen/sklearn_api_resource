{
 "cells": [
  {
   "cell_type": "markdown",
   "metadata": {},
   "source": [
    "# 機器學習_\\ML\\_metrics.r2\\_score\n",
    "## 說明\n",
    "r2又有人稱為決定系數([國家教育研究院](http://terms.naer.edu.tw/detail/1305857/))  \n",
    "\n",
    "r2\\_score是應用於迴歸效能評估的一個指標，在談r2\\_score之前我們先看兩個指標。\n",
    "1. $SS_{res}$  \n",
    "    * $SS_{res}=\\sum(y-\\hat{y})^2$\n",
    "    * 殘差總和\n",
    "\n",
    "2. $SS_{tot}$  \n",
    "    * $SS_{tot}=\\sum(y-\\overline{y})^2$\n",
    "        * 它以$y$本身均值來做計算\n",
    "    * 共平方和\n",
    "        \n",
    "r2\\_score=$1-\\frac{SS_{res}}{SS_{tot}}$     \n",
    "r2理論上介於0~1之間，數值愈高代表模型效能愈好，但是會有可能有負值的存在，不過有負值存在情況下，該模型應該也不會列入考量才是。"
   ]
  },
  {
   "cell_type": "markdown",
   "metadata": {},
   "source": [
    "## Import\n",
    "```python\n",
    "from sklearn.metrics import r2_score\n",
    "```"
   ]
  },
  {
   "cell_type": "markdown",
   "metadata": {},
   "source": [
    "## Class\n",
    "```\n",
    "sklearn.metrics.r2_score(y_true, y_pred, sample_weight=None,\n",
    "                         multioutput='uniform_average')\n",
    "```"
   ]
  },
  {
   "cell_type": "markdown",
   "metadata": {},
   "source": [
    "## 參數說明\n",
    "### y_true\n",
    "真實的label\n",
    "### y_pred\n",
    "預測的label\n",
    "### sample_weight \n",
    "權重\n",
    "### multioutput\n",
    "default:uniform_average  \n",
    "* raw_values\n",
    "    * 以(n_output, )的格式輸出\n",
    "* uniform_average\n",
    "    * 以相同重權來加總平均\n",
    "* variance_weighted\n",
    "    * 多輸出情況下才能使用\n",
    "    * 平均之後以方差做加權計算\n",
    "    * 可見[sklearn_git](https://github.com/scikit-learn/scikit-learn/blob/a24c8b46/sklearn/metrics/regression.py#L540)上第540行與560行"
   ]
  },
  {
   "cell_type": "markdown",
   "metadata": {},
   "source": [
    "## 範例"
   ]
  },
  {
   "cell_type": "code",
   "execution_count": 30,
   "metadata": {
    "collapsed": true
   },
   "outputs": [],
   "source": [
    "from sklearn.metrics import r2_score\n",
    "import numpy as np"
   ]
  },
  {
   "cell_type": "code",
   "execution_count": 2,
   "metadata": {
    "collapsed": true
   },
   "outputs": [],
   "source": [
    "y_true = [1, 2, 3]\n",
    "y_pred = [2, 3, 4]"
   ]
  },
  {
   "cell_type": "code",
   "execution_count": 13,
   "metadata": {},
   "outputs": [
    {
     "data": {
      "text/plain": [
       "array([-0.5])"
      ]
     },
     "execution_count": 13,
     "metadata": {},
     "output_type": "execute_result"
    }
   ],
   "source": [
    "r2_score(y_true, y_pred, multioutput='raw_values')"
   ]
  },
  {
   "cell_type": "code",
   "execution_count": 14,
   "metadata": {},
   "outputs": [
    {
     "data": {
      "text/plain": [
       "(1,)"
      ]
     },
     "execution_count": 14,
     "metadata": {},
     "output_type": "execute_result"
    }
   ],
   "source": [
    "r2_score(y_true, y_pred, multioutput='raw_values').shape"
   ]
  },
  {
   "cell_type": "code",
   "execution_count": 4,
   "metadata": {},
   "outputs": [
    {
     "data": {
      "text/plain": [
       "-0.5"
      ]
     },
     "execution_count": 4,
     "metadata": {},
     "output_type": "execute_result"
    }
   ],
   "source": [
    "r2_score(y_true, y_pred, multioutput='uniform_average')"
   ]
  },
  {
   "cell_type": "code",
   "execution_count": 5,
   "metadata": {},
   "outputs": [
    {
     "data": {
      "text/plain": [
       "-0.5"
      ]
     },
     "execution_count": 5,
     "metadata": {},
     "output_type": "execute_result"
    }
   ],
   "source": [
    "r2_score(y_true, y_pred, multioutput='variance_weighted')"
   ]
  },
  {
   "cell_type": "code",
   "execution_count": 41,
   "metadata": {},
   "outputs": [],
   "source": [
    "y_true = [[1, 0.5], [2, 1.5], [3, 2.5]]\n",
    "y_pred = [[20, 1.5], [3, 2.5], [4, 3.5]]"
   ]
  },
  {
   "cell_type": "code",
   "execution_count": 42,
   "metadata": {},
   "outputs": [
    {
     "data": {
      "text/plain": [
       "array([-180.5,   -0.5])"
      ]
     },
     "execution_count": 42,
     "metadata": {},
     "output_type": "execute_result"
    }
   ],
   "source": [
    "r2_score(y_true, y_pred, multioutput='raw_values')"
   ]
  },
  {
   "cell_type": "code",
   "execution_count": 43,
   "metadata": {},
   "outputs": [
    {
     "data": {
      "text/plain": [
       "(2,)"
      ]
     },
     "execution_count": 43,
     "metadata": {},
     "output_type": "execute_result"
    }
   ],
   "source": [
    "r2_score(y_true, y_pred, multioutput='raw_values').shape"
   ]
  },
  {
   "cell_type": "code",
   "execution_count": 44,
   "metadata": {},
   "outputs": [
    {
     "data": {
      "text/plain": [
       "-90.5"
      ]
     },
     "execution_count": 44,
     "metadata": {},
     "output_type": "execute_result"
    }
   ],
   "source": [
    "r2_score(y_true, y_pred, multioutput='uniform_average')"
   ]
  },
  {
   "cell_type": "code",
   "execution_count": 45,
   "metadata": {
    "scrolled": true
   },
   "outputs": [
    {
     "data": {
      "text/plain": [
       "-90.5"
      ]
     },
     "execution_count": 45,
     "metadata": {},
     "output_type": "execute_result"
    }
   ],
   "source": [
    "r2_score(y_true, y_pred, multioutput='variance_weighted')"
   ]
  },
  {
   "cell_type": "code",
   "execution_count": 49,
   "metadata": {},
   "outputs": [
    {
     "data": {
      "text/plain": [
       "-90.5"
      ]
     },
     "execution_count": 49,
     "metadata": {},
     "output_type": "execute_result"
    }
   ],
   "source": [
    "r2_score(y_true, y_pred, multioutput=[0.5, 0.5])"
   ]
  },
  {
   "cell_type": "code",
   "execution_count": 50,
   "metadata": {
    "collapsed": true
   },
   "outputs": [],
   "source": [
    "y_true = [[0.5, 1], [-1, 1], [7, -6]]\n",
    "y_pred = [[0, 2], [-1, 2], [8, -5]]"
   ]
  },
  {
   "cell_type": "code",
   "execution_count": 51,
   "metadata": {},
   "outputs": [
    {
     "data": {
      "text/plain": [
       "0.9382566585956417"
      ]
     },
     "execution_count": 51,
     "metadata": {},
     "output_type": "execute_result"
    }
   ],
   "source": [
    "r2_score(y_true, y_pred, multioutput='variance_weighted')"
   ]
  },
  {
   "cell_type": "code",
   "execution_count": 52,
   "metadata": {},
   "outputs": [
    {
     "data": {
      "text/plain": [
       "0.9368005266622779"
      ]
     },
     "execution_count": 52,
     "metadata": {},
     "output_type": "execute_result"
    }
   ],
   "source": [
    "r2_score(y_true, y_pred, multioutput='uniform_average')"
   ]
  },
  {
   "cell_type": "markdown",
   "metadata": {},
   "source": [
    "## 延伸閱讀\\_Adjusted $R^2$\n",
    "在計算r2\\_score的時候可能會發現一件事，隨著你的特徵(自變量)愈多，r2會愈見增長，不會下降，簡單的思考，最壞的情況就是學習參數為0，為0的話就是持平。直觀來看$y=b_0+w_1*x_1$的r2會相等於$y=b_0+w_1*x_1+0*x_2$，也因此，單純的透過r2\\_score搭配[反向淘汱特徵工程](https://github.com/shaoeChen/sklearn_api_resource/blob/master/sklearn_api/feature_selection/backward_elimination.ipynb)可能會有將有效特徵刪除機率，這時候我們可以利用懲罰項目來達成迴歸評估，稱為『**Adjusted $R^2$**』，廣義的r2。\n",
    "\n",
    "廣義的r2：  \n",
    "Adj $R^2=1-(1-R^2)*\\frac{m-1}{m-n-1}$  \n",
    "忽略掉m不看，當n變多的時候，分母會變小，即後面的項目值會變大，而當n變多的時候，我們的$R^2$也會增多，$R^2$變大，即(1-$R^2$)變小，這樣就造成了雙方的拔河，一個新的特徵的加入就看它造成了那一邊的波動較大，自然廣義的r2就會有增減。\n",
    "\n",
    "註：m指資料樣本數，n指特徵(自變量)數"
   ]
  }
 ],
 "metadata": {
  "kernelspec": {
   "display_name": "Python 3",
   "language": "python",
   "name": "python3"
  },
  "language_info": {
   "codemirror_mode": {
    "name": "ipython",
    "version": 3
   },
   "file_extension": ".py",
   "mimetype": "text/x-python",
   "name": "python",
   "nbconvert_exporter": "python",
   "pygments_lexer": "ipython3",
   "version": "3.5.3"
  }
 },
 "nbformat": 4,
 "nbformat_minor": 2
}
