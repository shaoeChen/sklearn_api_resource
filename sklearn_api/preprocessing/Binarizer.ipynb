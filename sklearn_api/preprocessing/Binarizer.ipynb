{
 "cells": [
  {
   "cell_type": "markdown",
   "metadata": {
    "collapsed": true
   },
   "source": [
    "# 機器學習_ML_preprocessing.Binarizer\n",
    "###### tags: `ML` `preprocessing` `Binarization` `sklearn`\n",
    "[官方說明](http://scikit-learn.org/stable/modules/generated/sklearn.preprocessing.binarize.html#sklearn-preprocessing-binarize)  \n",
    "在資料的預處理中，有一種二值化的方式，將資料變更為0與1，這讓人聯想到了圖片的二值化，理論大致相同，透過閥值的設置來調整矩陣。"
   ]
  },
  {
   "cell_type": "markdown",
   "metadata": {},
   "source": [
    "## Import\n",
    "```\n",
    "from sklearn.preprocessing import Binarizer\n",
    "```"
   ]
  },
  {
   "cell_type": "markdown",
   "metadata": {},
   "source": [
    "## class \n",
    "```\n",
    "sklearn.preprocessing.Binarizer(threshold=0.0, copy=True)\n",
    "```"
   ]
  },
  {
   "cell_type": "markdown",
   "metadata": {},
   "source": [
    "## 範例"
   ]
  },
  {
   "cell_type": "code",
   "execution_count": 1,
   "metadata": {
    "collapsed": true
   },
   "outputs": [],
   "source": [
    "#  載入需求套件\n",
    "import numpy as np\n",
    "from sklearn.preprocessing import Binarizer"
   ]
  },
  {
   "cell_type": "code",
   "execution_count": 11,
   "metadata": {},
   "outputs": [
    {
     "data": {
      "text/plain": [
       "array([[51, 35, 45, 22, 91, 96, 41, 94, 91, 90],\n",
       "       [80, 25, 90, 82,  8, 49, 50, 38, 16, 18],\n",
       "       [ 8, 28, 36, 16, 41,  6, 30, 99, 82, 94],\n",
       "       [45, 35, 61, 75, 23, 58, 72, 37,  6, 90],\n",
       "       [89,  3, 54, 95, 66, 15, 73, 86, 22, 50],\n",
       "       [74, 85, 34, 72, 47,  2, 11, 79,  4, 46],\n",
       "       [39, 66, 41, 17, 26, 81, 83, 29, 52, 99],\n",
       "       [ 7, 14, 67, 11, 40, 47, 60, 69, 66, 26],\n",
       "       [53, 14, 81, 99, 45, 54, 15, 61,  6, 96],\n",
       "       [71, 60, 66, 71, 84, 37, 87, 38, 64,  0]])"
      ]
     },
     "execution_count": 11,
     "metadata": {},
     "output_type": "execute_result"
    }
   ],
   "source": [
    "#  設置虛擬資料\n",
    "data = np.random.randint(0, 100, [10, 10])\n",
    "data"
   ]
  },
  {
   "cell_type": "code",
   "execution_count": 12,
   "metadata": {
    "collapsed": true
   },
   "outputs": [],
   "source": [
    "#  實作模型\n",
    "bz = Binarizer(threshold=15, copy=True)"
   ]
  },
  {
   "cell_type": "code",
   "execution_count": 13,
   "metadata": {},
   "outputs": [
    {
     "data": {
      "text/plain": [
       "array([[1, 1, 1, 1, 1, 1, 1, 1, 1, 1],\n",
       "       [1, 1, 1, 1, 0, 1, 1, 1, 1, 1],\n",
       "       [0, 1, 1, 1, 1, 0, 1, 1, 1, 1],\n",
       "       [1, 1, 1, 1, 1, 1, 1, 1, 0, 1],\n",
       "       [1, 0, 1, 1, 1, 0, 1, 1, 1, 1],\n",
       "       [1, 1, 1, 1, 1, 0, 0, 1, 0, 1],\n",
       "       [1, 1, 1, 1, 1, 1, 1, 1, 1, 1],\n",
       "       [0, 0, 1, 0, 1, 1, 1, 1, 1, 1],\n",
       "       [1, 0, 1, 1, 1, 1, 0, 1, 0, 1],\n",
       "       [1, 1, 1, 1, 1, 1, 1, 1, 1, 0]])"
      ]
     },
     "execution_count": 13,
     "metadata": {},
     "output_type": "execute_result"
    }
   ],
   "source": [
    "#  資料轉換\n",
    "data_bz = bz.transform(data)\n",
    "data_bz"
   ]
  },
  {
   "cell_type": "markdown",
   "metadata": {},
   "source": [
    "這邊會發現，為什麼沒有fit也會通，因為特徵的轉換是依自己來計算，不像標準化般需要計算縮放，閥值設置15，大於15的值就通通為1。"
   ]
  }
 ],
 "metadata": {
  "kernelspec": {
   "display_name": "Python 3",
   "language": "python",
   "name": "python3"
  },
  "language_info": {
   "codemirror_mode": {
    "name": "ipython",
    "version": 3
   },
   "file_extension": ".py",
   "mimetype": "text/x-python",
   "name": "python",
   "nbconvert_exporter": "python",
   "pygments_lexer": "ipython3",
   "version": "3.6.1"
  }
 },
 "nbformat": 4,
 "nbformat_minor": 2
}
