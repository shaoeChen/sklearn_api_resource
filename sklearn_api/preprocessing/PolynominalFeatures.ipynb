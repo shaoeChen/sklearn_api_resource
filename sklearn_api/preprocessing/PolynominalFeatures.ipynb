{
 "cells": [
  {
   "cell_type": "markdown",
   "metadata": {},
   "source": [
    "# 機器學習_ML_preprocessing.PolynominalFeatures\n",
    "###### tags: `ML` `preprocessing` `PolynominalFeatures` `sklearn`\n",
    "[官方說明](http://scikit-learn.org/stable/modules/generated/sklearn.preprocessing.PolynomialFeatures.html)\n",
    "\n",
    "PolynominalFeatures用於將特徵擴展為多項式，平方、次方、甚至更高，有什麼好處?可以得到更好的擬合，但是結果可能就是overfitting。畢竟訓練資料集是已知的資料，而我們希望預測的那未知是不確定的，滿足訓練資料集卻不一定滿足驗證測試資料集。  \n",
    "官方文件簡單的範例，如果有a、b兩個特徵做了次方，那會得到\\[1, a, b, a^2, ab, b^2\\]，如果我們設置interaction_only為True，那會單純得到\\[1,a,b,ab\\]，如果inculde_bias=False，那就不會有偏差單元1。\n",
    "## IMPORT\n",
    "```python\n",
    "from sklearn.preprocessing import PolynomialFeatures\n",
    "```\n",
    "## CLASS\n",
    "```python\n",
    "sklearn.preprocessing.PolynomialFeatures(\n",
    "    degree=2, interaction_only=False, include_bias=True)\n",
    "```"
   ]
  },
  {
   "cell_type": "markdown",
   "metadata": {},
   "source": [
    "## 參數說明\n",
    "### degree : integer\n",
    "Default = 2\n",
    "多項式的級數，預設為次方。\n",
    "### interaction_only : boolean\n",
    "default = False\n",
    "是否產生交互作用的特徵\n",
    "### include_bias : boolean\n",
    "default = True\n",
    "是否產生偏差單元"
   ]
  },
  {
   "cell_type": "markdown",
   "metadata": {},
   "source": [
    "## 屬性說明\n",
    "### powers_ : array, shape (n_output_features, n_input_features)\n",
    "### n_input_features_ : int\n",
    "輸入的特徵總數\n",
    "### n_output_features_ : int\n",
    "輸出的特徵總數"
   ]
  },
  {
   "cell_type": "markdown",
   "metadata": {},
   "source": [
    "## 方法說明\n",
    "### fit\n",
    "擬合、訓練\n",
    "### fit_transform\n",
    "擬合、訓練並且轉換\n",
    "### get_feature_names([input_features])\t\n",
    "取得特徵名稱?\n",
    "### get_params([deep])\t\n",
    "取得模型參數\n",
    "### set_params(**params)\t\n",
    "設置模型參數\n",
    "### transform(X)\t\n",
    "轉換特徵"
   ]
  },
  {
   "cell_type": "markdown",
   "metadata": {},
   "source": [
    "## 範例  "
   ]
  },
  {
   "cell_type": "code",
   "execution_count": 2,
   "metadata": {
    "collapsed": true
   },
   "outputs": [],
   "source": [
    "#  import需求套件\n",
    "from sklearn.preprocessing import PolynomialFeatures\n",
    "import numpy as np"
   ]
  },
  {
   "cell_type": "code",
   "execution_count": 21,
   "metadata": {},
   "outputs": [],
   "source": [
    "#  產生一個假的特徵，為了方便演練，我們只產生一筆。\n",
    "feature = np.array([[1,2]])"
   ]
  },
  {
   "cell_type": "code",
   "execution_count": 22,
   "metadata": {},
   "outputs": [
    {
     "data": {
      "text/plain": [
       "array([[1, 2]])"
      ]
     },
     "execution_count": 22,
     "metadata": {},
     "output_type": "execute_result"
    }
   ],
   "source": [
    "feature"
   ]
  },
  {
   "cell_type": "code",
   "execution_count": 30,
   "metadata": {},
   "outputs": [],
   "source": [
    "#  先以預設值觀察\n",
    "polynominal = PolynomialFeatures()"
   ]
  },
  {
   "cell_type": "code",
   "execution_count": 31,
   "metadata": {},
   "outputs": [
    {
     "data": {
      "text/plain": [
       "array([[ 1.,  1.,  2.,  1.,  2.,  4.]])"
      ]
     },
     "execution_count": 31,
     "metadata": {},
     "output_type": "execute_result"
    }
   ],
   "source": [
    "#  轉換多項式\n",
    "new_feature = polynominal.fit_transform(feature)\n",
    "#  確認特徵\n",
    "#  應該為[1, a, b, a^2, ab, b^2]\n",
    "new_feature"
   ]
  },
  {
   "cell_type": "code",
   "execution_count": 33,
   "metadata": {},
   "outputs": [
    {
     "data": {
      "text/plain": [
       "['1', 'x0', 'x1', 'x0^2', 'x0 x1', 'x1^2']"
      ]
     },
     "execution_count": 33,
     "metadata": {},
     "output_type": "execute_result"
    }
   ],
   "source": [
    "polynominal.get_feature_names()"
   ]
  },
  {
   "cell_type": "code",
   "execution_count": 34,
   "metadata": {},
   "outputs": [
    {
     "data": {
      "text/plain": [
       "array([[ 1.,  1.,  2.,  2.]])"
      ]
     },
     "execution_count": 34,
     "metadata": {},
     "output_type": "execute_result"
    }
   ],
   "source": [
    "polynominal = PolynomialFeatures(interaction_only=True)\n",
    "new_feature2 = polynominal.fit_transform(feature)\n",
    "#  應該為[1,a,b,ab]\n",
    "new_feature2"
   ]
  },
  {
   "cell_type": "code",
   "execution_count": 35,
   "metadata": {},
   "outputs": [
    {
     "data": {
      "text/plain": [
       "['1', 'x0', 'x1', 'x0 x1']"
      ]
     },
     "execution_count": 35,
     "metadata": {},
     "output_type": "execute_result"
    }
   ],
   "source": [
    "polynominal.get_feature_names()"
   ]
  },
  {
   "cell_type": "code",
   "execution_count": 36,
   "metadata": {},
   "outputs": [
    {
     "data": {
      "text/plain": [
       "array([[ 1.,  2.,  1.,  2.,  4.]])"
      ]
     },
     "execution_count": 36,
     "metadata": {},
     "output_type": "execute_result"
    }
   ],
   "source": [
    "polynominal = PolynomialFeatures(include_bias=False)\n",
    "new_feature3 = polynominal.fit_transform(feature)\n",
    "#  拿掉偏差單元了\n",
    "new_feature3"
   ]
  },
  {
   "cell_type": "code",
   "execution_count": 37,
   "metadata": {},
   "outputs": [
    {
     "data": {
      "text/plain": [
       "['x0', 'x1', 'x0^2', 'x0 x1', 'x1^2']"
      ]
     },
     "execution_count": 37,
     "metadata": {},
     "output_type": "execute_result"
    }
   ],
   "source": [
    "polynominal.get_feature_names()"
   ]
  }
 ],
 "metadata": {
  "kernelspec": {
   "display_name": "Python 3",
   "language": "python",
   "name": "python3"
  },
  "language_info": {
   "codemirror_mode": {
    "name": "ipython",
    "version": 3
   },
   "file_extension": ".py",
   "mimetype": "text/x-python",
   "name": "python",
   "nbconvert_exporter": "python",
   "pygments_lexer": "ipython3",
   "version": "3.6.1"
  }
 },
 "nbformat": 4,
 "nbformat_minor": 2
}
