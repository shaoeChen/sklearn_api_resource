{
 "cells": [
  {
   "cell_type": "markdown",
   "metadata": {},
   "source": [
    "# example_PolynomialFeatures\n",
    "讓我們利用一個簡單的範例來了解多項式對模型擬合的影響，預計產生300筆資料集做測試。"
   ]
  },
  {
   "cell_type": "code",
   "execution_count": 23,
   "metadata": {
    "collapsed": true
   },
   "outputs": [],
   "source": [
    "#  載入需求套件\n",
    "import numpy as np\n",
    "from sklearn.linear_model import LinearRegression\n",
    "from sklearn.preprocessing import PolynomialFeatures\n",
    "import matplotlib.pyplot as plt\n",
    "%matplotlib inline"
   ]
  },
  {
   "cell_type": "code",
   "execution_count": 30,
   "metadata": {
    "scrolled": true
   },
   "outputs": [],
   "source": [
    "#  資料集數設置\n",
    "samples = 300\n",
    "#  np.linspace用以產生區間內資料集\n",
    "X = np.linspace(-3 * np.pi, 3 * np.pi, samples)\n",
    "#  設置y，再利用亂數給予噪點\n",
    "y = np.sin(X) + np.random.rand(samples)"
   ]
  },
  {
   "cell_type": "code",
   "execution_count": 31,
   "metadata": {},
   "outputs": [
    {
     "data": {
      "text/plain": [
       "(300,)"
      ]
     },
     "execution_count": 31,
     "metadata": {},
     "output_type": "execute_result"
    }
   ],
   "source": [
    "#  特別注意到，以numpy來產生陣列的時候會出現這種稱為秩的格式，為了避免計算上的誤差，我們會再利用reshape來調整\n",
    "X.shape"
   ]
  },
  {
   "cell_type": "code",
   "execution_count": 32,
   "metadata": {},
   "outputs": [
    {
     "data": {
      "text/plain": [
       "(300,)"
      ]
     },
     "execution_count": 32,
     "metadata": {},
     "output_type": "execute_result"
    }
   ],
   "source": [
    "y.shape"
   ]
  },
  {
   "cell_type": "code",
   "execution_count": 33,
   "metadata": {},
   "outputs": [
    {
     "data": {
      "text/plain": [
       "(300, 1)"
      ]
     },
     "execution_count": 33,
     "metadata": {},
     "output_type": "execute_result"
    }
   ],
   "source": [
    "#  利用reshape來重新調整維度\n",
    "X.reshape(-1,1).shape"
   ]
  },
  {
   "cell_type": "code",
   "execution_count": 34,
   "metadata": {},
   "outputs": [],
   "source": [
    "X = X.reshape(-1,1)\n",
    "y = y.reshape(-1,1)"
   ]
  },
  {
   "cell_type": "markdown",
   "metadata": {},
   "source": [
    "sin的圖形：(取自[維基百科](https://zh.wikipedia.org/wiki/%E6%AD%A3%E5%BC%A6))  \n",
    "![](https://i.imgur.com/YrcqBzR.png)"
   ]
  },
  {
   "cell_type": "code",
   "execution_count": 39,
   "metadata": {},
   "outputs": [
    {
     "data": {
      "image/png": "[encoded data removed]",
      "text/plain": [
       "<matplotlib.figure.Figure at 0x1c928865eb8>"
      ]
     },
     "metadata": {},
     "output_type": "display_data"
    }
   ],
   "source": [
    "#  先看一下目前的資料分佈\n",
    "plt.scatter(X,y)\n",
    "plt.show()"
   ]
  },
  {
   "cell_type": "markdown",
   "metadata": {},
   "source": [
    "## 多項次_degree(1)"
   ]
  },
  {
   "cell_type": "code",
   "execution_count": 36,
   "metadata": {},
   "outputs": [
    {
     "data": {
      "text/plain": [
       "array([[ 1.        , -9.42477796],\n",
       "       [ 1.        , -9.36173597],\n",
       "       [ 1.        , -9.29869397],\n",
       "       [ 1.        , -9.23565198],\n",
       "       [ 1.        , -9.17260999],\n",
       "       [ 1.        , -9.109568  ],\n",
       "       [ 1.        , -9.046526  ],\n",
       "       [ 1.        , -8.98348401],\n",
       "       [ 1.        , -8.92044202],\n",
       "       [ 1.        , -8.85740002],\n",
       "       [ 1.        , -8.79435803],\n",
       "       [ 1.        , -8.73131604],\n",
       "       [ 1.        , -8.66827404],\n",
       "       [ 1.        , -8.60523205],\n",
       "       [ 1.        , -8.54219006],\n",
       "       [ 1.        , -8.47914807],\n",
       "       [ 1.        , -8.41610607],\n",
       "       [ 1.        , -8.35306408],\n",
       "       [ 1.        , -8.29002209],\n",
       "       [ 1.        , -8.22698009],\n",
       "       [ 1.        , -8.1639381 ],\n",
       "       [ 1.        , -8.10089611],\n",
       "       [ 1.        , -8.03785411],\n",
       "       [ 1.        , -7.97481212],\n",
       "       [ 1.        , -7.91177013],\n",
       "       [ 1.        , -7.84872813],\n",
       "       [ 1.        , -7.78568614],\n",
       "       [ 1.        , -7.72264415],\n",
       "       [ 1.        , -7.65960216],\n",
       "       [ 1.        , -7.59656016],\n",
       "       [ 1.        , -7.53351817],\n",
       "       [ 1.        , -7.47047618],\n",
       "       [ 1.        , -7.40743418],\n",
       "       [ 1.        , -7.34439219],\n",
       "       [ 1.        , -7.2813502 ],\n",
       "       [ 1.        , -7.2183082 ],\n",
       "       [ 1.        , -7.15526621],\n",
       "       [ 1.        , -7.09222422],\n",
       "       [ 1.        , -7.02918222],\n",
       "       [ 1.        , -6.96614023],\n",
       "       [ 1.        , -6.90309824],\n",
       "       [ 1.        , -6.84005625],\n",
       "       [ 1.        , -6.77701425],\n",
       "       [ 1.        , -6.71397226],\n",
       "       [ 1.        , -6.65093027],\n",
       "       [ 1.        , -6.58788827],\n",
       "       [ 1.        , -6.52484628],\n",
       "       [ 1.        , -6.46180429],\n",
       "       [ 1.        , -6.39876229],\n",
       "       [ 1.        , -6.3357203 ],\n",
       "       [ 1.        , -6.27267831],\n",
       "       [ 1.        , -6.20963632],\n",
       "       [ 1.        , -6.14659432],\n",
       "       [ 1.        , -6.08355233],\n",
       "       [ 1.        , -6.02051034],\n",
       "       [ 1.        , -5.95746834],\n",
       "       [ 1.        , -5.89442635],\n",
       "       [ 1.        , -5.83138436],\n",
       "       [ 1.        , -5.76834236],\n",
       "       [ 1.        , -5.70530037],\n",
       "       [ 1.        , -5.64225838],\n",
       "       [ 1.        , -5.57921638],\n",
       "       [ 1.        , -5.51617439],\n",
       "       [ 1.        , -5.4531324 ],\n",
       "       [ 1.        , -5.39009041],\n",
       "       [ 1.        , -5.32704841],\n",
       "       [ 1.        , -5.26400642],\n",
       "       [ 1.        , -5.20096443],\n",
       "       [ 1.        , -5.13792243],\n",
       "       [ 1.        , -5.07488044],\n",
       "       [ 1.        , -5.01183845],\n",
       "       [ 1.        , -4.94879645],\n",
       "       [ 1.        , -4.88575446],\n",
       "       [ 1.        , -4.82271247],\n",
       "       [ 1.        , -4.75967048],\n",
       "       [ 1.        , -4.69662848],\n",
       "       [ 1.        , -4.63358649],\n",
       "       [ 1.        , -4.5705445 ],\n",
       "       [ 1.        , -4.5075025 ],\n",
       "       [ 1.        , -4.44446051],\n",
       "       [ 1.        , -4.38141852],\n",
       "       [ 1.        , -4.31837652],\n",
       "       [ 1.        , -4.25533453],\n",
       "       [ 1.        , -4.19229254],\n",
       "       [ 1.        , -4.12925054],\n",
       "       [ 1.        , -4.06620855],\n",
       "       [ 1.        , -4.00316656],\n",
       "       [ 1.        , -3.94012457],\n",
       "       [ 1.        , -3.87708257],\n",
       "       [ 1.        , -3.81404058],\n",
       "       [ 1.        , -3.75099859],\n",
       "       [ 1.        , -3.68795659],\n",
       "       [ 1.        , -3.6249146 ],\n",
       "       [ 1.        , -3.56187261],\n",
       "       [ 1.        , -3.49883061],\n",
       "       [ 1.        , -3.43578862],\n",
       "       [ 1.        , -3.37274663],\n",
       "       [ 1.        , -3.30970464],\n",
       "       [ 1.        , -3.24666264],\n",
       "       [ 1.        , -3.18362065],\n",
       "       [ 1.        , -3.12057866],\n",
       "       [ 1.        , -3.05753666],\n",
       "       [ 1.        , -2.99449467],\n",
       "       [ 1.        , -2.93145268],\n",
       "       [ 1.        , -2.86841068],\n",
       "       [ 1.        , -2.80536869],\n",
       "       [ 1.        , -2.7423267 ],\n",
       "       [ 1.        , -2.6792847 ],\n",
       "       [ 1.        , -2.61624271],\n",
       "       [ 1.        , -2.55320072],\n",
       "       [ 1.        , -2.49015873],\n",
       "       [ 1.        , -2.42711673],\n",
       "       [ 1.        , -2.36407474],\n",
       "       [ 1.        , -2.30103275],\n",
       "       [ 1.        , -2.23799075],\n",
       "       [ 1.        , -2.17494876],\n",
       "       [ 1.        , -2.11190677],\n",
       "       [ 1.        , -2.04886477],\n",
       "       [ 1.        , -1.98582278],\n",
       "       [ 1.        , -1.92278079],\n",
       "       [ 1.        , -1.85973879],\n",
       "       [ 1.        , -1.7966968 ],\n",
       "       [ 1.        , -1.73365481],\n",
       "       [ 1.        , -1.67061282],\n",
       "       [ 1.        , -1.60757082],\n",
       "       [ 1.        , -1.54452883],\n",
       "       [ 1.        , -1.48148684],\n",
       "       [ 1.        , -1.41844484],\n",
       "       [ 1.        , -1.35540285],\n",
       "       [ 1.        , -1.29236086],\n",
       "       [ 1.        , -1.22931886],\n",
       "       [ 1.        , -1.16627687],\n",
       "       [ 1.        , -1.10323488],\n",
       "       [ 1.        , -1.04019289],\n",
       "       [ 1.        , -0.97715089],\n",
       "       [ 1.        , -0.9141089 ],\n",
       "       [ 1.        , -0.85106691],\n",
       "       [ 1.        , -0.78802491],\n",
       "       [ 1.        , -0.72498292],\n",
       "       [ 1.        , -0.66194093],\n",
       "       [ 1.        , -0.59889893],\n",
       "       [ 1.        , -0.53585694],\n",
       "       [ 1.        , -0.47281495],\n",
       "       [ 1.        , -0.40977295],\n",
       "       [ 1.        , -0.34673096],\n",
       "       [ 1.        , -0.28368897],\n",
       "       [ 1.        , -0.22064698],\n",
       "       [ 1.        , -0.15760498],\n",
       "       [ 1.        , -0.09456299],\n",
       "       [ 1.        , -0.031521  ],\n",
       "       [ 1.        ,  0.031521  ],\n",
       "       [ 1.        ,  0.09456299],\n",
       "       [ 1.        ,  0.15760498],\n",
       "       [ 1.        ,  0.22064698],\n",
       "       [ 1.        ,  0.28368897],\n",
       "       [ 1.        ,  0.34673096],\n",
       "       [ 1.        ,  0.40977295],\n",
       "       [ 1.        ,  0.47281495],\n",
       "       [ 1.        ,  0.53585694],\n",
       "       [ 1.        ,  0.59889893],\n",
       "       [ 1.        ,  0.66194093],\n",
       "       [ 1.        ,  0.72498292],\n",
       "       [ 1.        ,  0.78802491],\n",
       "       [ 1.        ,  0.85106691],\n",
       "       [ 1.        ,  0.9141089 ],\n",
       "       [ 1.        ,  0.97715089],\n",
       "       [ 1.        ,  1.04019289],\n",
       "       [ 1.        ,  1.10323488],\n",
       "       [ 1.        ,  1.16627687],\n",
       "       [ 1.        ,  1.22931886],\n",
       "       [ 1.        ,  1.29236086],\n",
       "       [ 1.        ,  1.35540285],\n",
       "       [ 1.        ,  1.41844484],\n",
       "       [ 1.        ,  1.48148684],\n",
       "       [ 1.        ,  1.54452883],\n",
       "       [ 1.        ,  1.60757082],\n",
       "       [ 1.        ,  1.67061282],\n",
       "       [ 1.        ,  1.73365481],\n",
       "       [ 1.        ,  1.7966968 ],\n",
       "       [ 1.        ,  1.85973879],\n",
       "       [ 1.        ,  1.92278079],\n",
       "       [ 1.        ,  1.98582278],\n",
       "       [ 1.        ,  2.04886477],\n",
       "       [ 1.        ,  2.11190677],\n",
       "       [ 1.        ,  2.17494876],\n",
       "       [ 1.        ,  2.23799075],\n",
       "       [ 1.        ,  2.30103275],\n",
       "       [ 1.        ,  2.36407474],\n",
       "       [ 1.        ,  2.42711673],\n",
       "       [ 1.        ,  2.49015873],\n",
       "       [ 1.        ,  2.55320072],\n",
       "       [ 1.        ,  2.61624271],\n",
       "       [ 1.        ,  2.6792847 ],\n",
       "       [ 1.        ,  2.7423267 ],\n",
       "       [ 1.        ,  2.80536869],\n",
       "       [ 1.        ,  2.86841068],\n",
       "       [ 1.        ,  2.93145268],\n",
       "       [ 1.        ,  2.99449467],\n",
       "       [ 1.        ,  3.05753666],\n",
       "       [ 1.        ,  3.12057866],\n",
       "       [ 1.        ,  3.18362065],\n",
       "       [ 1.        ,  3.24666264],\n",
       "       [ 1.        ,  3.30970464],\n",
       "       [ 1.        ,  3.37274663],\n",
       "       [ 1.        ,  3.43578862],\n",
       "       [ 1.        ,  3.49883061],\n",
       "       [ 1.        ,  3.56187261],\n",
       "       [ 1.        ,  3.6249146 ],\n",
       "       [ 1.        ,  3.68795659],\n",
       "       [ 1.        ,  3.75099859],\n",
       "       [ 1.        ,  3.81404058],\n",
       "       [ 1.        ,  3.87708257],\n",
       "       [ 1.        ,  3.94012457],\n",
       "       [ 1.        ,  4.00316656],\n",
       "       [ 1.        ,  4.06620855],\n",
       "       [ 1.        ,  4.12925054],\n",
       "       [ 1.        ,  4.19229254],\n",
       "       [ 1.        ,  4.25533453],\n",
       "       [ 1.        ,  4.31837652],\n",
       "       [ 1.        ,  4.38141852],\n",
       "       [ 1.        ,  4.44446051],\n",
       "       [ 1.        ,  4.5075025 ],\n",
       "       [ 1.        ,  4.5705445 ],\n",
       "       [ 1.        ,  4.63358649],\n",
       "       [ 1.        ,  4.69662848],\n",
       "       [ 1.        ,  4.75967048],\n",
       "       [ 1.        ,  4.82271247],\n",
       "       [ 1.        ,  4.88575446],\n",
       "       [ 1.        ,  4.94879645],\n",
       "       [ 1.        ,  5.01183845],\n",
       "       [ 1.        ,  5.07488044],\n",
       "       [ 1.        ,  5.13792243],\n",
       "       [ 1.        ,  5.20096443],\n",
       "       [ 1.        ,  5.26400642],\n",
       "       [ 1.        ,  5.32704841],\n",
       "       [ 1.        ,  5.39009041],\n",
       "       [ 1.        ,  5.4531324 ],\n",
       "       [ 1.        ,  5.51617439],\n",
       "       [ 1.        ,  5.57921638],\n",
       "       [ 1.        ,  5.64225838],\n",
       "       [ 1.        ,  5.70530037],\n",
       "       [ 1.        ,  5.76834236],\n",
       "       [ 1.        ,  5.83138436],\n",
       "       [ 1.        ,  5.89442635],\n",
       "       [ 1.        ,  5.95746834],\n",
       "       [ 1.        ,  6.02051034],\n",
       "       [ 1.        ,  6.08355233],\n",
       "       [ 1.        ,  6.14659432],\n",
       "       [ 1.        ,  6.20963632],\n",
       "       [ 1.        ,  6.27267831],\n",
       "       [ 1.        ,  6.3357203 ],\n",
       "       [ 1.        ,  6.39876229],\n",
       "       [ 1.        ,  6.46180429],\n",
       "       [ 1.        ,  6.52484628],\n",
       "       [ 1.        ,  6.58788827],\n",
       "       [ 1.        ,  6.65093027],\n",
       "       [ 1.        ,  6.71397226],\n",
       "       [ 1.        ,  6.77701425],\n",
       "       [ 1.        ,  6.84005625],\n",
       "       [ 1.        ,  6.90309824],\n",
       "       [ 1.        ,  6.96614023],\n",
       "       [ 1.        ,  7.02918222],\n",
       "       [ 1.        ,  7.09222422],\n",
       "       [ 1.        ,  7.15526621],\n",
       "       [ 1.        ,  7.2183082 ],\n",
       "       [ 1.        ,  7.2813502 ],\n",
       "       [ 1.        ,  7.34439219],\n",
       "       [ 1.        ,  7.40743418],\n",
       "       [ 1.        ,  7.47047618],\n",
       "       [ 1.        ,  7.53351817],\n",
       "       [ 1.        ,  7.59656016],\n",
       "       [ 1.        ,  7.65960216],\n",
       "       [ 1.        ,  7.72264415],\n",
       "       [ 1.        ,  7.78568614],\n",
       "       [ 1.        ,  7.84872813],\n",
       "       [ 1.        ,  7.91177013],\n",
       "       [ 1.        ,  7.97481212],\n",
       "       [ 1.        ,  8.03785411],\n",
       "       [ 1.        ,  8.10089611],\n",
       "       [ 1.        ,  8.1639381 ],\n",
       "       [ 1.        ,  8.22698009],\n",
       "       [ 1.        ,  8.29002209],\n",
       "       [ 1.        ,  8.35306408],\n",
       "       [ 1.        ,  8.41610607],\n",
       "       [ 1.        ,  8.47914807],\n",
       "       [ 1.        ,  8.54219006],\n",
       "       [ 1.        ,  8.60523205],\n",
       "       [ 1.        ,  8.66827404],\n",
       "       [ 1.        ,  8.73131604],\n",
       "       [ 1.        ,  8.79435803],\n",
       "       [ 1.        ,  8.85740002],\n",
       "       [ 1.        ,  8.92044202],\n",
       "       [ 1.        ,  8.98348401],\n",
       "       [ 1.        ,  9.046526  ],\n",
       "       [ 1.        ,  9.109568  ],\n",
       "       [ 1.        ,  9.17260999],\n",
       "       [ 1.        ,  9.23565198],\n",
       "       [ 1.        ,  9.29869397],\n",
       "       [ 1.        ,  9.36173597],\n",
       "       [ 1.        ,  9.42477796]])"
      ]
     },
     "execution_count": 36,
     "metadata": {},
     "output_type": "execute_result"
    }
   ],
   "source": [
    "poly_1 = PolynomialFeatures(degree=1)\n",
    "feature_1 = poly_1.fit_transform(X)\n",
    "feature_1"
   ]
  },
  {
   "cell_type": "code",
   "execution_count": 37,
   "metadata": {},
   "outputs": [
    {
     "data": {
      "text/plain": [
       "LinearRegression(copy_X=True, fit_intercept=True, n_jobs=1, normalize=True)"
      ]
     },
     "execution_count": 37,
     "metadata": {},
     "output_type": "execute_result"
    }
   ],
   "source": [
    "#  實作線性迴歸模型，並且設置normalize=True\n",
    "line_1 = LinearRegression(normalize=True)\n",
    "line_1.fit(feature_1, y)"
   ]
  },
  {
   "cell_type": "code",
   "execution_count": 42,
   "metadata": {
    "scrolled": true
   },
   "outputs": [
    {
     "data": {
      "image/png": "[encoded data removed]",
      "text/plain": [
       "<matplotlib.figure.Figure at 0x1c929c21550>"
      ]
     },
     "metadata": {},
     "output_type": "display_data"
    }
   ],
   "source": [
    "plt.scatter(X, y)\n",
    "plt.plot(X, line_1.predict(feature_1))\n",
    "plt.show()"
   ]
  },
  {
   "cell_type": "markdown",
   "metadata": {},
   "source": [
    "## 多項次_degree(2)"
   ]
  },
  {
   "cell_type": "code",
   "execution_count": 43,
   "metadata": {},
   "outputs": [
    {
     "data": {
      "text/plain": [
       "array([[  1.00000000e+00,  -9.42477796e+00,   8.88264396e+01],\n",
       "       [  1.00000000e+00,  -9.36173597e+00,   8.76421003e+01],\n",
       "       [  1.00000000e+00,  -9.29869397e+00,   8.64657096e+01],\n",
       "       [  1.00000000e+00,  -9.23565198e+00,   8.52972675e+01],\n",
       "       [  1.00000000e+00,  -9.17260999e+00,   8.41367740e+01],\n",
       "       [  1.00000000e+00,  -9.10956800e+00,   8.29842291e+01],\n",
       "       [  1.00000000e+00,  -9.04652600e+00,   8.18396327e+01],\n",
       "       [  1.00000000e+00,  -8.98348401e+00,   8.07029849e+01],\n",
       "       [  1.00000000e+00,  -8.92044202e+00,   7.95742858e+01],\n",
       "       [  1.00000000e+00,  -8.85740002e+00,   7.84535352e+01],\n",
       "       [  1.00000000e+00,  -8.79435803e+00,   7.73407332e+01],\n",
       "       [  1.00000000e+00,  -8.73131604e+00,   7.62358797e+01],\n",
       "       [  1.00000000e+00,  -8.66827404e+00,   7.51389749e+01],\n",
       "       [  1.00000000e+00,  -8.60523205e+00,   7.40500187e+01],\n",
       "       [  1.00000000e+00,  -8.54219006e+00,   7.29690110e+01],\n",
       "       [  1.00000000e+00,  -8.47914807e+00,   7.18959519e+01],\n",
       "       [  1.00000000e+00,  -8.41610607e+00,   7.08308414e+01],\n",
       "       [  1.00000000e+00,  -8.35306408e+00,   6.97736795e+01],\n",
       "       [  1.00000000e+00,  -8.29002209e+00,   6.87244662e+01],\n",
       "       [  1.00000000e+00,  -8.22698009e+00,   6.76832014e+01],\n",
       "       [  1.00000000e+00,  -8.16393810e+00,   6.66498853e+01],\n",
       "       [  1.00000000e+00,  -8.10089611e+00,   6.56245177e+01],\n",
       "       [  1.00000000e+00,  -8.03785411e+00,   6.46070988e+01],\n",
       "       [  1.00000000e+00,  -7.97481212e+00,   6.35976284e+01],\n",
       "       [  1.00000000e+00,  -7.91177013e+00,   6.25961066e+01],\n",
       "       [  1.00000000e+00,  -7.84872813e+00,   6.16025333e+01],\n",
       "       [  1.00000000e+00,  -7.78568614e+00,   6.06169087e+01],\n",
       "       [  1.00000000e+00,  -7.72264415e+00,   5.96392326e+01],\n",
       "       [  1.00000000e+00,  -7.65960216e+00,   5.86695052e+01],\n",
       "       [  1.00000000e+00,  -7.59656016e+00,   5.77077263e+01],\n",
       "       [  1.00000000e+00,  -7.53351817e+00,   5.67538960e+01],\n",
       "       [  1.00000000e+00,  -7.47047618e+00,   5.58080143e+01],\n",
       "       [  1.00000000e+00,  -7.40743418e+00,   5.48700812e+01],\n",
       "       [  1.00000000e+00,  -7.34439219e+00,   5.39400966e+01],\n",
       "       [  1.00000000e+00,  -7.28135020e+00,   5.30180607e+01],\n",
       "       [  1.00000000e+00,  -7.21830820e+00,   5.21039733e+01],\n",
       "       [  1.00000000e+00,  -7.15526621e+00,   5.11978346e+01],\n",
       "       [  1.00000000e+00,  -7.09222422e+00,   5.02996444e+01],\n",
       "       [  1.00000000e+00,  -7.02918222e+00,   4.94094028e+01],\n",
       "       [  1.00000000e+00,  -6.96614023e+00,   4.85271097e+01],\n",
       "       [  1.00000000e+00,  -6.90309824e+00,   4.76527653e+01],\n",
       "       [  1.00000000e+00,  -6.84005625e+00,   4.67863694e+01],\n",
       "       [  1.00000000e+00,  -6.77701425e+00,   4.59279222e+01],\n",
       "       [  1.00000000e+00,  -6.71397226e+00,   4.50774235e+01],\n",
       "       [  1.00000000e+00,  -6.65093027e+00,   4.42348734e+01],\n",
       "       [  1.00000000e+00,  -6.58788827e+00,   4.34002719e+01],\n",
       "       [  1.00000000e+00,  -6.52484628e+00,   4.25736190e+01],\n",
       "       [  1.00000000e+00,  -6.46180429e+00,   4.17549146e+01],\n",
       "       [  1.00000000e+00,  -6.39876229e+00,   4.09441589e+01],\n",
       "       [  1.00000000e+00,  -6.33572030e+00,   4.01413517e+01],\n",
       "       [  1.00000000e+00,  -6.27267831e+00,   3.93464932e+01],\n",
       "       [  1.00000000e+00,  -6.20963632e+00,   3.85595832e+01],\n",
       "       [  1.00000000e+00,  -6.14659432e+00,   3.77806218e+01],\n",
       "       [  1.00000000e+00,  -6.08355233e+00,   3.70096089e+01],\n",
       "       [  1.00000000e+00,  -6.02051034e+00,   3.62465447e+01],\n",
       "       [  1.00000000e+00,  -5.95746834e+00,   3.54914291e+01],\n",
       "       [  1.00000000e+00,  -5.89442635e+00,   3.47442620e+01],\n",
       "       [  1.00000000e+00,  -5.83138436e+00,   3.40050435e+01],\n",
       "       [  1.00000000e+00,  -5.76834236e+00,   3.32737736e+01],\n",
       "       [  1.00000000e+00,  -5.70530037e+00,   3.25504523e+01],\n",
       "       [  1.00000000e+00,  -5.64225838e+00,   3.18350796e+01],\n",
       "       [  1.00000000e+00,  -5.57921638e+00,   3.11276555e+01],\n",
       "       [  1.00000000e+00,  -5.51617439e+00,   3.04281799e+01],\n",
       "       [  1.00000000e+00,  -5.45313240e+00,   2.97366530e+01],\n",
       "       [  1.00000000e+00,  -5.39009041e+00,   2.90530746e+01],\n",
       "       [  1.00000000e+00,  -5.32704841e+00,   2.83774448e+01],\n",
       "       [  1.00000000e+00,  -5.26400642e+00,   2.77097636e+01],\n",
       "       [  1.00000000e+00,  -5.20096443e+00,   2.70500310e+01],\n",
       "       [  1.00000000e+00,  -5.13792243e+00,   2.63982469e+01],\n",
       "       [  1.00000000e+00,  -5.07488044e+00,   2.57544115e+01],\n",
       "       [  1.00000000e+00,  -5.01183845e+00,   2.51185246e+01],\n",
       "       [  1.00000000e+00,  -4.94879645e+00,   2.44905863e+01],\n",
       "       [  1.00000000e+00,  -4.88575446e+00,   2.38705967e+01],\n",
       "       [  1.00000000e+00,  -4.82271247e+00,   2.32585556e+01],\n",
       "       [  1.00000000e+00,  -4.75967048e+00,   2.26544630e+01],\n",
       "       [  1.00000000e+00,  -4.69662848e+00,   2.20583191e+01],\n",
       "       [  1.00000000e+00,  -4.63358649e+00,   2.14701238e+01],\n",
       "       [  1.00000000e+00,  -4.57054450e+00,   2.08898770e+01],\n",
       "       [  1.00000000e+00,  -4.50750250e+00,   2.03175788e+01],\n",
       "       [  1.00000000e+00,  -4.44446051e+00,   1.97532292e+01],\n",
       "       [  1.00000000e+00,  -4.38141852e+00,   1.91968282e+01],\n",
       "       [  1.00000000e+00,  -4.31837652e+00,   1.86483758e+01],\n",
       "       [  1.00000000e+00,  -4.25533453e+00,   1.81078720e+01],\n",
       "       [  1.00000000e+00,  -4.19229254e+00,   1.75753167e+01],\n",
       "       [  1.00000000e+00,  -4.12925054e+00,   1.70507101e+01],\n",
       "       [  1.00000000e+00,  -4.06620855e+00,   1.65340520e+01],\n",
       "       [  1.00000000e+00,  -4.00316656e+00,   1.60253425e+01],\n",
       "       [  1.00000000e+00,  -3.94012457e+00,   1.55245816e+01],\n",
       "       [  1.00000000e+00,  -3.87708257e+00,   1.50317693e+01],\n",
       "       [  1.00000000e+00,  -3.81404058e+00,   1.45469055e+01],\n",
       "       [  1.00000000e+00,  -3.75099859e+00,   1.40699904e+01],\n",
       "       [  1.00000000e+00,  -3.68795659e+00,   1.36010238e+01],\n",
       "       [  1.00000000e+00,  -3.62491460e+00,   1.31400059e+01],\n",
       "       [  1.00000000e+00,  -3.56187261e+00,   1.26869365e+01],\n",
       "       [  1.00000000e+00,  -3.49883061e+00,   1.22418157e+01],\n",
       "       [  1.00000000e+00,  -3.43578862e+00,   1.18046434e+01],\n",
       "       [  1.00000000e+00,  -3.37274663e+00,   1.13754198e+01],\n",
       "       [  1.00000000e+00,  -3.30970464e+00,   1.09541448e+01],\n",
       "       [  1.00000000e+00,  -3.24666264e+00,   1.05408183e+01],\n",
       "       [  1.00000000e+00,  -3.18362065e+00,   1.01354404e+01],\n",
       "       [  1.00000000e+00,  -3.12057866e+00,   9.73801115e+00],\n",
       "       [  1.00000000e+00,  -3.05753666e+00,   9.34853044e+00],\n",
       "       [  1.00000000e+00,  -2.99449467e+00,   8.96699833e+00],\n",
       "       [  1.00000000e+00,  -2.93145268e+00,   8.59341480e+00],\n",
       "       [  1.00000000e+00,  -2.86841068e+00,   8.22777985e+00],\n",
       "       [  1.00000000e+00,  -2.80536869e+00,   7.87009349e+00],\n",
       "       [  1.00000000e+00,  -2.74232670e+00,   7.52035572e+00],\n",
       "       [  1.00000000e+00,  -2.67928470e+00,   7.17856653e+00],\n",
       "       [  1.00000000e+00,  -2.61624271e+00,   6.84472593e+00],\n",
       "       [  1.00000000e+00,  -2.55320072e+00,   6.51883391e+00],\n",
       "       [  1.00000000e+00,  -2.49015873e+00,   6.20089048e+00],\n",
       "       [  1.00000000e+00,  -2.42711673e+00,   5.89089563e+00],\n",
       "       [  1.00000000e+00,  -2.36407474e+00,   5.58884937e+00],\n",
       "       [  1.00000000e+00,  -2.30103275e+00,   5.29475170e+00],\n",
       "       [  1.00000000e+00,  -2.23799075e+00,   5.00860261e+00],\n",
       "       [  1.00000000e+00,  -2.17494876e+00,   4.73040211e+00],\n",
       "       [  1.00000000e+00,  -2.11190677e+00,   4.46015019e+00],\n",
       "       [  1.00000000e+00,  -2.04886477e+00,   4.19784686e+00],\n",
       "       [  1.00000000e+00,  -1.98582278e+00,   3.94349212e+00],\n",
       "       [  1.00000000e+00,  -1.92278079e+00,   3.69708596e+00],\n",
       "       [  1.00000000e+00,  -1.85973879e+00,   3.45862839e+00],\n",
       "       [  1.00000000e+00,  -1.79669680e+00,   3.22811940e+00],\n",
       "       [  1.00000000e+00,  -1.73365481e+00,   3.00555900e+00],\n",
       "       [  1.00000000e+00,  -1.67061282e+00,   2.79094718e+00],\n",
       "       [  1.00000000e+00,  -1.60757082e+00,   2.58428395e+00],\n",
       "       [  1.00000000e+00,  -1.54452883e+00,   2.38556931e+00],\n",
       "       [  1.00000000e+00,  -1.48148684e+00,   2.19480325e+00],\n",
       "       [  1.00000000e+00,  -1.41844484e+00,   2.01198577e+00],\n",
       "       [  1.00000000e+00,  -1.35540285e+00,   1.83711689e+00],\n",
       "       [  1.00000000e+00,  -1.29236086e+00,   1.67019659e+00],\n",
       "       [  1.00000000e+00,  -1.22931886e+00,   1.51122487e+00],\n",
       "       [  1.00000000e+00,  -1.16627687e+00,   1.36020174e+00],\n",
       "       [  1.00000000e+00,  -1.10323488e+00,   1.21712720e+00],\n",
       "       [  1.00000000e+00,  -1.04019289e+00,   1.08200124e+00],\n",
       "       [  1.00000000e+00,  -9.77150892e-01,   9.54823866e-01],\n",
       "       [  1.00000000e+00,  -9.14108899e-01,   8.35595080e-01],\n",
       "       [  1.00000000e+00,  -8.51066906e-01,   7.24314879e-01],\n",
       "       [  1.00000000e+00,  -7.88024913e-01,   6.20983264e-01],\n",
       "       [  1.00000000e+00,  -7.24982920e-01,   5.25600234e-01],\n",
       "       [  1.00000000e+00,  -6.61940927e-01,   4.38165791e-01],\n",
       "       [  1.00000000e+00,  -5.98898934e-01,   3.58679933e-01],\n",
       "       [  1.00000000e+00,  -5.35856941e-01,   2.87142661e-01],\n",
       "       [  1.00000000e+00,  -4.72814948e-01,   2.23553975e-01],\n",
       "       [  1.00000000e+00,  -4.09772955e-01,   1.67913874e-01],\n",
       "       [  1.00000000e+00,  -3.46730962e-01,   1.20222360e-01],\n",
       "       [  1.00000000e+00,  -2.83688969e-01,   8.04794310e-02],\n",
       "       [  1.00000000e+00,  -2.20646976e-01,   4.86850879e-02],\n",
       "       [  1.00000000e+00,  -1.57604983e-01,   2.48393305e-02],\n",
       "       [  1.00000000e+00,  -9.45629896e-02,   8.94215900e-03],\n",
       "       [  1.00000000e+00,  -3.15209965e-02,   9.93573222e-04],\n",
       "       [  1.00000000e+00,   3.15209965e-02,   9.93573222e-04],\n",
       "       [  1.00000000e+00,   9.45629896e-02,   8.94215900e-03],\n",
       "       [  1.00000000e+00,   1.57604983e-01,   2.48393305e-02],\n",
       "       [  1.00000000e+00,   2.20646976e-01,   4.86850879e-02],\n",
       "       [  1.00000000e+00,   2.83688969e-01,   8.04794310e-02],\n",
       "       [  1.00000000e+00,   3.46730962e-01,   1.20222360e-01],\n",
       "       [  1.00000000e+00,   4.09772955e-01,   1.67913874e-01],\n",
       "       [  1.00000000e+00,   4.72814948e-01,   2.23553975e-01],\n",
       "       [  1.00000000e+00,   5.35856941e-01,   2.87142661e-01],\n",
       "       [  1.00000000e+00,   5.98898934e-01,   3.58679933e-01],\n",
       "       [  1.00000000e+00,   6.61940927e-01,   4.38165791e-01],\n",
       "       [  1.00000000e+00,   7.24982920e-01,   5.25600234e-01],\n",
       "       [  1.00000000e+00,   7.88024913e-01,   6.20983264e-01],\n",
       "       [  1.00000000e+00,   8.51066906e-01,   7.24314879e-01],\n",
       "       [  1.00000000e+00,   9.14108899e-01,   8.35595080e-01],\n",
       "       [  1.00000000e+00,   9.77150892e-01,   9.54823866e-01],\n",
       "       [  1.00000000e+00,   1.04019289e+00,   1.08200124e+00],\n",
       "       [  1.00000000e+00,   1.10323488e+00,   1.21712720e+00],\n",
       "       [  1.00000000e+00,   1.16627687e+00,   1.36020174e+00],\n",
       "       [  1.00000000e+00,   1.22931886e+00,   1.51122487e+00],\n",
       "       [  1.00000000e+00,   1.29236086e+00,   1.67019659e+00],\n",
       "       [  1.00000000e+00,   1.35540285e+00,   1.83711689e+00],\n",
       "       [  1.00000000e+00,   1.41844484e+00,   2.01198577e+00],\n",
       "       [  1.00000000e+00,   1.48148684e+00,   2.19480325e+00],\n",
       "       [  1.00000000e+00,   1.54452883e+00,   2.38556931e+00],\n",
       "       [  1.00000000e+00,   1.60757082e+00,   2.58428395e+00],\n",
       "       [  1.00000000e+00,   1.67061282e+00,   2.79094718e+00],\n",
       "       [  1.00000000e+00,   1.73365481e+00,   3.00555900e+00],\n",
       "       [  1.00000000e+00,   1.79669680e+00,   3.22811940e+00],\n",
       "       [  1.00000000e+00,   1.85973879e+00,   3.45862839e+00],\n",
       "       [  1.00000000e+00,   1.92278079e+00,   3.69708596e+00],\n",
       "       [  1.00000000e+00,   1.98582278e+00,   3.94349212e+00],\n",
       "       [  1.00000000e+00,   2.04886477e+00,   4.19784686e+00],\n",
       "       [  1.00000000e+00,   2.11190677e+00,   4.46015019e+00],\n",
       "       [  1.00000000e+00,   2.17494876e+00,   4.73040211e+00],\n",
       "       [  1.00000000e+00,   2.23799075e+00,   5.00860261e+00],\n",
       "       [  1.00000000e+00,   2.30103275e+00,   5.29475170e+00],\n",
       "       [  1.00000000e+00,   2.36407474e+00,   5.58884937e+00],\n",
       "       [  1.00000000e+00,   2.42711673e+00,   5.89089563e+00],\n",
       "       [  1.00000000e+00,   2.49015873e+00,   6.20089048e+00],\n",
       "       [  1.00000000e+00,   2.55320072e+00,   6.51883391e+00],\n",
       "       [  1.00000000e+00,   2.61624271e+00,   6.84472593e+00],\n",
       "       [  1.00000000e+00,   2.67928470e+00,   7.17856653e+00],\n",
       "       [  1.00000000e+00,   2.74232670e+00,   7.52035572e+00],\n",
       "       [  1.00000000e+00,   2.80536869e+00,   7.87009349e+00],\n",
       "       [  1.00000000e+00,   2.86841068e+00,   8.22777985e+00],\n",
       "       [  1.00000000e+00,   2.93145268e+00,   8.59341480e+00],\n",
       "       [  1.00000000e+00,   2.99449467e+00,   8.96699833e+00],\n",
       "       [  1.00000000e+00,   3.05753666e+00,   9.34853044e+00],\n",
       "       [  1.00000000e+00,   3.12057866e+00,   9.73801115e+00],\n",
       "       [  1.00000000e+00,   3.18362065e+00,   1.01354404e+01],\n",
       "       [  1.00000000e+00,   3.24666264e+00,   1.05408183e+01],\n",
       "       [  1.00000000e+00,   3.30970464e+00,   1.09541448e+01],\n",
       "       [  1.00000000e+00,   3.37274663e+00,   1.13754198e+01],\n",
       "       [  1.00000000e+00,   3.43578862e+00,   1.18046434e+01],\n",
       "       [  1.00000000e+00,   3.49883061e+00,   1.22418157e+01],\n",
       "       [  1.00000000e+00,   3.56187261e+00,   1.26869365e+01],\n",
       "       [  1.00000000e+00,   3.62491460e+00,   1.31400059e+01],\n",
       "       [  1.00000000e+00,   3.68795659e+00,   1.36010238e+01],\n",
       "       [  1.00000000e+00,   3.75099859e+00,   1.40699904e+01],\n",
       "       [  1.00000000e+00,   3.81404058e+00,   1.45469055e+01],\n",
       "       [  1.00000000e+00,   3.87708257e+00,   1.50317693e+01],\n",
       "       [  1.00000000e+00,   3.94012457e+00,   1.55245816e+01],\n",
       "       [  1.00000000e+00,   4.00316656e+00,   1.60253425e+01],\n",
       "       [  1.00000000e+00,   4.06620855e+00,   1.65340520e+01],\n",
       "       [  1.00000000e+00,   4.12925054e+00,   1.70507101e+01],\n",
       "       [  1.00000000e+00,   4.19229254e+00,   1.75753167e+01],\n",
       "       [  1.00000000e+00,   4.25533453e+00,   1.81078720e+01],\n",
       "       [  1.00000000e+00,   4.31837652e+00,   1.86483758e+01],\n",
       "       [  1.00000000e+00,   4.38141852e+00,   1.91968282e+01],\n",
       "       [  1.00000000e+00,   4.44446051e+00,   1.97532292e+01],\n",
       "       [  1.00000000e+00,   4.50750250e+00,   2.03175788e+01],\n",
       "       [  1.00000000e+00,   4.57054450e+00,   2.08898770e+01],\n",
       "       [  1.00000000e+00,   4.63358649e+00,   2.14701238e+01],\n",
       "       [  1.00000000e+00,   4.69662848e+00,   2.20583191e+01],\n",
       "       [  1.00000000e+00,   4.75967048e+00,   2.26544630e+01],\n",
       "       [  1.00000000e+00,   4.82271247e+00,   2.32585556e+01],\n",
       "       [  1.00000000e+00,   4.88575446e+00,   2.38705967e+01],\n",
       "       [  1.00000000e+00,   4.94879645e+00,   2.44905863e+01],\n",
       "       [  1.00000000e+00,   5.01183845e+00,   2.51185246e+01],\n",
       "       [  1.00000000e+00,   5.07488044e+00,   2.57544115e+01],\n",
       "       [  1.00000000e+00,   5.13792243e+00,   2.63982469e+01],\n",
       "       [  1.00000000e+00,   5.20096443e+00,   2.70500310e+01],\n",
       "       [  1.00000000e+00,   5.26400642e+00,   2.77097636e+01],\n",
       "       [  1.00000000e+00,   5.32704841e+00,   2.83774448e+01],\n",
       "       [  1.00000000e+00,   5.39009041e+00,   2.90530746e+01],\n",
       "       [  1.00000000e+00,   5.45313240e+00,   2.97366530e+01],\n",
       "       [  1.00000000e+00,   5.51617439e+00,   3.04281799e+01],\n",
       "       [  1.00000000e+00,   5.57921638e+00,   3.11276555e+01],\n",
       "       [  1.00000000e+00,   5.64225838e+00,   3.18350796e+01],\n",
       "       [  1.00000000e+00,   5.70530037e+00,   3.25504523e+01],\n",
       "       [  1.00000000e+00,   5.76834236e+00,   3.32737736e+01],\n",
       "       [  1.00000000e+00,   5.83138436e+00,   3.40050435e+01],\n",
       "       [  1.00000000e+00,   5.89442635e+00,   3.47442620e+01],\n",
       "       [  1.00000000e+00,   5.95746834e+00,   3.54914291e+01],\n",
       "       [  1.00000000e+00,   6.02051034e+00,   3.62465447e+01],\n",
       "       [  1.00000000e+00,   6.08355233e+00,   3.70096089e+01],\n",
       "       [  1.00000000e+00,   6.14659432e+00,   3.77806218e+01],\n",
       "       [  1.00000000e+00,   6.20963632e+00,   3.85595832e+01],\n",
       "       [  1.00000000e+00,   6.27267831e+00,   3.93464932e+01],\n",
       "       [  1.00000000e+00,   6.33572030e+00,   4.01413517e+01],\n",
       "       [  1.00000000e+00,   6.39876229e+00,   4.09441589e+01],\n",
       "       [  1.00000000e+00,   6.46180429e+00,   4.17549146e+01],\n",
       "       [  1.00000000e+00,   6.52484628e+00,   4.25736190e+01],\n",
       "       [  1.00000000e+00,   6.58788827e+00,   4.34002719e+01],\n",
       "       [  1.00000000e+00,   6.65093027e+00,   4.42348734e+01],\n",
       "       [  1.00000000e+00,   6.71397226e+00,   4.50774235e+01],\n",
       "       [  1.00000000e+00,   6.77701425e+00,   4.59279222e+01],\n",
       "       [  1.00000000e+00,   6.84005625e+00,   4.67863694e+01],\n",
       "       [  1.00000000e+00,   6.90309824e+00,   4.76527653e+01],\n",
       "       [  1.00000000e+00,   6.96614023e+00,   4.85271097e+01],\n",
       "       [  1.00000000e+00,   7.02918222e+00,   4.94094028e+01],\n",
       "       [  1.00000000e+00,   7.09222422e+00,   5.02996444e+01],\n",
       "       [  1.00000000e+00,   7.15526621e+00,   5.11978346e+01],\n",
       "       [  1.00000000e+00,   7.21830820e+00,   5.21039733e+01],\n",
       "       [  1.00000000e+00,   7.28135020e+00,   5.30180607e+01],\n",
       "       [  1.00000000e+00,   7.34439219e+00,   5.39400966e+01],\n",
       "       [  1.00000000e+00,   7.40743418e+00,   5.48700812e+01],\n",
       "       [  1.00000000e+00,   7.47047618e+00,   5.58080143e+01],\n",
       "       [  1.00000000e+00,   7.53351817e+00,   5.67538960e+01],\n",
       "       [  1.00000000e+00,   7.59656016e+00,   5.77077263e+01],\n",
       "       [  1.00000000e+00,   7.65960216e+00,   5.86695052e+01],\n",
       "       [  1.00000000e+00,   7.72264415e+00,   5.96392326e+01],\n",
       "       [  1.00000000e+00,   7.78568614e+00,   6.06169087e+01],\n",
       "       [  1.00000000e+00,   7.84872813e+00,   6.16025333e+01],\n",
       "       [  1.00000000e+00,   7.91177013e+00,   6.25961066e+01],\n",
       "       [  1.00000000e+00,   7.97481212e+00,   6.35976284e+01],\n",
       "       [  1.00000000e+00,   8.03785411e+00,   6.46070988e+01],\n",
       "       [  1.00000000e+00,   8.10089611e+00,   6.56245177e+01],\n",
       "       [  1.00000000e+00,   8.16393810e+00,   6.66498853e+01],\n",
       "       [  1.00000000e+00,   8.22698009e+00,   6.76832014e+01],\n",
       "       [  1.00000000e+00,   8.29002209e+00,   6.87244662e+01],\n",
       "       [  1.00000000e+00,   8.35306408e+00,   6.97736795e+01],\n",
       "       [  1.00000000e+00,   8.41610607e+00,   7.08308414e+01],\n",
       "       [  1.00000000e+00,   8.47914807e+00,   7.18959519e+01],\n",
       "       [  1.00000000e+00,   8.54219006e+00,   7.29690110e+01],\n",
       "       [  1.00000000e+00,   8.60523205e+00,   7.40500187e+01],\n",
       "       [  1.00000000e+00,   8.66827404e+00,   7.51389749e+01],\n",
       "       [  1.00000000e+00,   8.73131604e+00,   7.62358797e+01],\n",
       "       [  1.00000000e+00,   8.79435803e+00,   7.73407332e+01],\n",
       "       [  1.00000000e+00,   8.85740002e+00,   7.84535352e+01],\n",
       "       [  1.00000000e+00,   8.92044202e+00,   7.95742858e+01],\n",
       "       [  1.00000000e+00,   8.98348401e+00,   8.07029849e+01],\n",
       "       [  1.00000000e+00,   9.04652600e+00,   8.18396327e+01],\n",
       "       [  1.00000000e+00,   9.10956800e+00,   8.29842291e+01],\n",
       "       [  1.00000000e+00,   9.17260999e+00,   8.41367740e+01],\n",
       "       [  1.00000000e+00,   9.23565198e+00,   8.52972675e+01],\n",
       "       [  1.00000000e+00,   9.29869397e+00,   8.64657096e+01],\n",
       "       [  1.00000000e+00,   9.36173597e+00,   8.76421003e+01],\n",
       "       [  1.00000000e+00,   9.42477796e+00,   8.88264396e+01]])"
      ]
     },
     "execution_count": 43,
     "metadata": {},
     "output_type": "execute_result"
    }
   ],
   "source": [
    "poly_2 = PolynomialFeatures(degree=2)\n",
    "feature_2 = poly_2.fit_transform(X)\n",
    "feature_2"
   ]
  },
  {
   "cell_type": "code",
   "execution_count": 44,
   "metadata": {},
   "outputs": [
    {
     "data": {
      "text/plain": [
       "LinearRegression(copy_X=True, fit_intercept=True, n_jobs=1, normalize=True)"
      ]
     },
     "execution_count": 44,
     "metadata": {},
     "output_type": "execute_result"
    }
   ],
   "source": [
    "#  實作線性迴歸模型，並且設置normalize=True\n",
    "line_2 = LinearRegression(normalize=True)\n",
    "line_2.fit(feature_2, y)"
   ]
  },
  {
   "cell_type": "code",
   "execution_count": 45,
   "metadata": {},
   "outputs": [
    {
     "data": {
      "image/png": "[encoded data removed]",
      "text/plain": [
       "<matplotlib.figure.Figure at 0x1c929cecf60>"
      ]
     },
     "metadata": {},
     "output_type": "display_data"
    }
   ],
   "source": [
    "plt.scatter(X, y)\n",
    "plt.plot(X, line_2.predict(feature_2))\n",
    "plt.show()"
   ]
  },
  {
   "cell_type": "markdown",
   "metadata": {},
   "source": [
    "## 多項次_degree(3)"
   ]
  },
  {
   "cell_type": "code",
   "execution_count": 46,
   "metadata": {},
   "outputs": [
    {
     "data": {
      "text/plain": [
       "array([[   1.        ,   -9.42477796,   88.82643961, -837.16947037],\n",
       "       [   1.        ,   -9.36173597,   87.64210033, -820.48220294],\n",
       "       [   1.        ,   -9.29869397,   86.46570963, -804.0181732 ],\n",
       "       ..., \n",
       "       [   1.        ,    9.29869397,   86.46570963,  804.0181732 ],\n",
       "       [   1.        ,    9.36173597,   87.64210033,  820.48220294],\n",
       "       [   1.        ,    9.42477796,   88.82643961,  837.16947037]])"
      ]
     },
     "execution_count": 46,
     "metadata": {},
     "output_type": "execute_result"
    }
   ],
   "source": [
    "poly_3 = PolynomialFeatures(degree=3)\n",
    "feature_3 = poly_3.fit_transform(X)\n",
    "feature_3"
   ]
  },
  {
   "cell_type": "code",
   "execution_count": 47,
   "metadata": {},
   "outputs": [
    {
     "data": {
      "text/plain": [
       "LinearRegression(copy_X=True, fit_intercept=True, n_jobs=1, normalize=True)"
      ]
     },
     "execution_count": 47,
     "metadata": {},
     "output_type": "execute_result"
    }
   ],
   "source": [
    "#  實作線性迴歸模型，並且設置normalize=True\n",
    "line_3 = LinearRegression(normalize=True)\n",
    "line_3.fit(feature_3, y)"
   ]
  },
  {
   "cell_type": "code",
   "execution_count": 48,
   "metadata": {},
   "outputs": [
    {
     "data": {
      "image/png": "[encoded data removed]",
      "text/plain": [
       "<matplotlib.figure.Figure at 0x1c929d62f60>"
      ]
     },
     "metadata": {},
     "output_type": "display_data"
    }
   ],
   "source": [
    "plt.scatter(X, y)\n",
    "plt.plot(X, line_3.predict(feature_3))\n",
    "plt.show()"
   ]
  },
  {
   "cell_type": "markdown",
   "metadata": {},
   "source": [
    "## 多項次_degree(5)"
   ]
  },
  {
   "cell_type": "code",
   "execution_count": 49,
   "metadata": {},
   "outputs": [
    {
     "data": {
      "text/plain": [
       "array([[  1.00000000e+00,  -9.42477796e+00,   8.88264396e+01,\n",
       "         -8.37169470e+02,   7.89013637e+03,  -7.43627834e+04],\n",
       "       [  1.00000000e+00,  -9.36173597e+00,   8.76421003e+01,\n",
       "         -8.20482203e+02,   7.68113775e+03,  -7.19087835e+04],\n",
       "       [  1.00000000e+00,  -9.29869397e+00,   8.64657096e+01,\n",
       "         -8.04018173e+02,   7.47631894e+03,  -6.95200019e+04],\n",
       "       ..., \n",
       "       [  1.00000000e+00,   9.29869397e+00,   8.64657096e+01,\n",
       "          8.04018173e+02,   7.47631894e+03,   6.95200019e+04],\n",
       "       [  1.00000000e+00,   9.36173597e+00,   8.76421003e+01,\n",
       "          8.20482203e+02,   7.68113775e+03,   7.19087835e+04],\n",
       "       [  1.00000000e+00,   9.42477796e+00,   8.88264396e+01,\n",
       "          8.37169470e+02,   7.89013637e+03,   7.43627834e+04]])"
      ]
     },
     "execution_count": 49,
     "metadata": {},
     "output_type": "execute_result"
    }
   ],
   "source": [
    "poly_5 = PolynomialFeatures(degree=5)\n",
    "feature_5 = poly_5.fit_transform(X)\n",
    "feature_5"
   ]
  },
  {
   "cell_type": "code",
   "execution_count": 50,
   "metadata": {},
   "outputs": [
    {
     "data": {
      "text/plain": [
       "LinearRegression(copy_X=True, fit_intercept=True, n_jobs=1, normalize=True)"
      ]
     },
     "execution_count": 50,
     "metadata": {},
     "output_type": "execute_result"
    }
   ],
   "source": [
    "#  實作線性迴歸模型，並且設置normalize=True\n",
    "line_5 = LinearRegression(normalize=True)\n",
    "line_5.fit(feature_5, y)"
   ]
  },
  {
   "cell_type": "code",
   "execution_count": 51,
   "metadata": {},
   "outputs": [
    {
     "data": {
      "image/png": "[encoded data removed]",
      "text/plain": [
       "<matplotlib.figure.Figure at 0x1c929e0d320>"
      ]
     },
     "metadata": {},
     "output_type": "display_data"
    }
   ],
   "source": [
    "plt.scatter(X, y)\n",
    "plt.plot(X, line_5.predict(feature_5))\n",
    "plt.show()"
   ]
  },
  {
   "cell_type": "markdown",
   "metadata": {},
   "source": [
    "## 多項次_degree(8)"
   ]
  },
  {
   "cell_type": "code",
   "execution_count": 52,
   "metadata": {},
   "outputs": [
    {
     "data": {
      "text/plain": [
       "array([[  1.00000000e+00,  -9.42477796e+00,   8.88264396e+01, ...,\n",
       "          7.00852722e+05,  -6.60538129e+06,   6.22542520e+07],\n",
       "       [  1.00000000e+00,  -9.36173597e+00,   8.76421003e+01, ...,\n",
       "          6.73191045e+05,  -6.30223682e+06,   5.89998771e+07],\n",
       "       [  1.00000000e+00,  -9.29869397e+00,   8.64657096e+01, ...,\n",
       "          6.46445223e+05,  -6.01109630e+06,   5.58953449e+07],\n",
       "       ..., \n",
       "       [  1.00000000e+00,   9.29869397e+00,   8.64657096e+01, ...,\n",
       "          6.46445223e+05,   6.01109630e+06,   5.58953449e+07],\n",
       "       [  1.00000000e+00,   9.36173597e+00,   8.76421003e+01, ...,\n",
       "          6.73191045e+05,   6.30223682e+06,   5.89998771e+07],\n",
       "       [  1.00000000e+00,   9.42477796e+00,   8.88264396e+01, ...,\n",
       "          7.00852722e+05,   6.60538129e+06,   6.22542520e+07]])"
      ]
     },
     "execution_count": 52,
     "metadata": {},
     "output_type": "execute_result"
    }
   ],
   "source": [
    "poly_8 = PolynomialFeatures(degree=8)\n",
    "feature_8 = poly_8.fit_transform(X)\n",
    "feature_8"
   ]
  },
  {
   "cell_type": "code",
   "execution_count": 53,
   "metadata": {},
   "outputs": [
    {
     "data": {
      "text/plain": [
       "LinearRegression(copy_X=True, fit_intercept=True, n_jobs=1, normalize=True)"
      ]
     },
     "execution_count": 53,
     "metadata": {},
     "output_type": "execute_result"
    }
   ],
   "source": [
    "#  實作線性迴歸模型，並且設置normalize=True\n",
    "line_8 = LinearRegression(normalize=True)\n",
    "line_8.fit(feature_8, y)"
   ]
  },
  {
   "cell_type": "code",
   "execution_count": 54,
   "metadata": {},
   "outputs": [
    {
     "data": {
      "image/png": "[encoded data removed]",
      "text/plain": [
       "<matplotlib.figure.Figure at 0x1c929eadbe0>"
      ]
     },
     "metadata": {},
     "output_type": "display_data"
    }
   ],
   "source": [
    "plt.scatter(X, y)\n",
    "plt.plot(X, line_8.predict(feature_8))\n",
    "plt.show()"
   ]
  },
  {
   "cell_type": "markdown",
   "metadata": {},
   "source": [
    "## 結論\n",
    "從上面的例子可以看的出來，當多項式到8次方的時候，基本上已經是快完全擬合了，相信再加上去會更貼近數據的分佈，這也是為什麼在利用多項式的時候要注意到overfitting的原因。"
   ]
  }
 ],
 "metadata": {
  "kernelspec": {
   "display_name": "Python 3",
   "language": "python",
   "name": "python3"
  },
  "language_info": {
   "codemirror_mode": {
    "name": "ipython",
    "version": 3
   },
   "file_extension": ".py",
   "mimetype": "text/x-python",
   "name": "python",
   "nbconvert_exporter": "python",
   "pygments_lexer": "ipython3",
   "version": "3.6.1"
  }
 },
 "nbformat": 4,
 "nbformat_minor": 2
}
