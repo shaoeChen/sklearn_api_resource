{
 "cells": [
  {
   "cell_type": "markdown",
   "metadata": {},
   "source": [
    "#  機器學習_ML_validation_curve_驗證曲線\n",
    "[API連結](http://scikit-learn.org/stable/modules/generated/sklearn.model_selection.validation_curve.html#sklearn.model_selection.validation_curve)\n",
    "[官方文件](http://scikit-learn.org/stable/modules/learning_curve.html#validation-curve)\n",
    "學習曲線與驗證曲線是在機器學習中很重要的兩條線，透過線的呈現可以明白模型究竟是高偏差(high bias)還是高方差(high variance)。  \n",
    "為什麼重要?  \n",
    "因為high bias and high variance在實務上的調校是不相同的!  \n",
    "你去對一個high bias的模型餵再多的資料，效果恐怕是有限的。  \n",
    "你去對一個high variance給了更多的特徵，那不是提汽油上場嗎?  \n",
    "* high bias 代表 underfitting\n",
    "* high variance 代表 overfitting\n",
    "\n",
    "學習來自吳恩達老師\\_機器學習\\_第六週課程\n",
    "* 更多的數據\n",
    "    * high variance有效\n",
    "    * high bias沒效\n",
    "* 嚐試用更少的特徵\n",
    "    * high variance有效\n",
    "* 取得更有效的特徵\n",
    "    * high bias有效\n",
    "* 用更高的多項式方式\n",
    "    * high bias有效\n",
    "    * high variance是浪費時間\n",
    "* 減少正規項$\\lambda$數值\n",
    "    * high bias有效\n",
    "* 增加正規項$\\lambda$數值\n",
    "    * high variance有效\n",
    "    \n",
    "學習曲線是以<font color=red>『訓練正確率』與『驗證正確率』</font>來製圖，而驗證曲線是以<font color=red>改變參數來製圖</font>。  \n",
    "像是改變正規化參數$\\lambda$(在sklearn為反正規化參數C)  \n",
    "這方式類似於利用網格搜尋(GridSearc)來暴力求解，不過如同官方文件所說  \n",
    "```\n",
    "However, \n",
    "it is sometimes helpful to plot the influence of a single hyperparameter \n",
    "on the training score \n",
    "and the validation score to find out whether the estimator \n",
    "is overfitting or underfitting for some hyperparameter values.\n",
    "```\n",
    "有時候利用單一超參數去做繪製影響是有幫助的，這可以找出分類器對某些超參數過適與否。這部份在讀吳恩達老師的deep learning也有提到。    "
   ]
  },
  {
   "cell_type": "markdown",
   "metadata": {},
   "source": [
    "## IMPORT\n",
    "```python=\n",
    "from sklearn.model_selection import validation_curve\n",
    "```"
   ]
  },
  {
   "cell_type": "markdown",
   "metadata": {},
   "source": [
    "## CLASS\n",
    "```python=\n",
    "sklearn.model_selection.validation_curve(\n",
    "                    estimator, X, y, param_name, param_range, \n",
    "                    groups=None, cv=None, scoring=None, n_jobs=1,\n",
    "                    pre_dispatch=’all’, verbose=0)\n",
    "```"
   ]
  },
  {
   "cell_type": "markdown",
   "metadata": {},
   "source": [
    "## 參數說明\n",
    "### estimator\n",
    "使用的分類器，但限制為需要有fit、predict兩個method!\n",
    "### X\n",
    "訓練資料集\n",
    "### y\n",
    "對應訓練資料集的label\n",
    "### param_name\n",
    "參數  \n",
    "格式記得是\"分類器__參數\"  \n",
    "### param_range\n",
    "要被驗證的參數值  \n",
    "以list格式提供  \n",
    "[0.1, 0.001, 0.0001, 1.0, 10.0, 100.0]  \n",
    "### groups\n",
    "\n",
    "### cv\n",
    "default 3  \n",
    "定義拆分折數  \n",
    "### scoring\n",
    "模型評估  \n",
    "可參考[官方關於模型評估的類型](http://scikit-learn.org/stable/modules/model_evaluation.html)  \n",
    "### n_jobs \n",
    "default 1  \n",
    "使用多少CPU核心數   \n",
    "-1代表火力全開  \n",
    "### pre_dispatch \n",
    "\n",
    "### verbose\n",
    "default 0  \n",
    "過程是否輸出  \n",
    "0不輸出  \n",
    "1偶爾輸出  \n",
    "2一定輸出  "
   ]
  },
  {
   "cell_type": "markdown",
   "metadata": {},
   "source": [
    "## 屬性\n",
    "### train_scores \n",
    "訓練資料集分數\n",
    "### test_scores \n",
    "測試資料集分數"
   ]
  },
  {
   "cell_type": "markdown",
   "metadata": {},
   "source": [
    "## 範例\n",
    "官方範例，我加上了註解說明。"
   ]
  },
  {
   "cell_type": "code",
   "execution_count": 1,
   "metadata": {},
   "outputs": [
    {
     "name": "stdout",
     "output_type": "stream",
     "text": [
      "Automatically created module for IPython interactive environment\n"
     ]
    }
   ],
   "source": [
    "print(__doc__)\n",
    "#  載入套件\n",
    "import matplotlib.pyplot as plt\n",
    "import numpy as np\n",
    "\n",
    "from sklearn.datasets import load_digits\n",
    "from sklearn.svm import SVC\n",
    "from sklearn.model_selection import validation_curve"
   ]
  },
  {
   "cell_type": "code",
   "execution_count": 2,
   "metadata": {
    "collapsed": true
   },
   "outputs": [],
   "source": [
    "#  讀入資料集\n",
    "digits = load_digits()\n",
    "X, y = digits.data, digits.target"
   ]
  },
  {
   "cell_type": "code",
   "execution_count": 3,
   "metadata": {
    "collapsed": true
   },
   "outputs": [],
   "source": [
    "#  設置參數區間\n",
    "#  np.logspace用來建立等比數列，以10為基數\n",
    "#  np.linspace用來建置等差數列\n",
    "param_range = np.logspace(-6, -1, 5)\n",
    "#  取得驗證曲線的訓練集得分與測試集得分\n",
    "train_scores, test_scores = validation_curve(\n",
    "                 #  此例測試SVM的gamma值\n",
    "    SVC(), X, y, param_name=\"gamma\", param_range=param_range,\n",
    "    cv=10, scoring=\"accuracy\", n_jobs=1)\n",
    "#  計算訓練集的平均\n",
    "train_scores_mean = np.mean(train_scores, axis=1)\n",
    "#  計算訓練集的標準差\n",
    "train_scores_std = np.std(train_scores, axis=1)\n",
    "#  計算測試集的平均\n",
    "test_scores_mean = np.mean(test_scores, axis=1)\n",
    "#  計算測試集的標準差\n",
    "test_scores_std = np.std(test_scores, axis=1)"
   ]
  },
  {
   "cell_type": "code",
   "execution_count": 4,
   "metadata": {},
   "outputs": [
    {
     "data": {
      "image/png": "[encoded data removed]",
      "text/plain": [
       "<matplotlib.figure.Figure at 0x18358c0a9b0>"
      ]
     },
     "metadata": {},
     "output_type": "display_data"
    }
   ],
   "source": [
    "#  繪圖\n",
    "plt.title(\"Validation Curve with SVM\")\n",
    "plt.xlabel(\"$\\gamma$\")\n",
    "plt.ylabel(\"Score\")\n",
    "plt.ylim(0.0, 1.1)\n",
    "lw = 2\n",
    "#  繪製訓練集曲線\n",
    "plt.semilogx(param_range, train_scores_mean, label=\"Training score\",\n",
    "             color=\"darkorange\", lw=lw)\n",
    "#  繪製訓練集區域\n",
    "plt.fill_between(param_range, train_scores_mean - train_scores_std,\n",
    "                 train_scores_mean + train_scores_std, alpha=0.2,\n",
    "                 color=\"darkorange\", lw=lw)\n",
    "#  繪製驗證集曲線\n",
    "plt.semilogx(param_range, test_scores_mean, label=\"Cross-validation score\",\n",
    "             color=\"navy\", lw=lw)\n",
    "#  繪製驗證集區域\n",
    "plt.fill_between(param_range, test_scores_mean - test_scores_std,\n",
    "                 test_scores_mean + test_scores_std, alpha=0.2,\n",
    "                 color=\"navy\", lw=lw)\n",
    "#  顯示標籤，以最佳位置設置\n",
    "plt.legend(loc=\"best\")\n",
    "plt.show()"
   ]
  }
 ],
 "metadata": {
  "kernelspec": {
   "display_name": "Python 3",
   "language": "python",
   "name": "python3"
  },
  "language_info": {
   "codemirror_mode": {
    "name": "ipython",
    "version": 3
   },
   "file_extension": ".py",
   "mimetype": "text/x-python",
   "name": "python",
   "nbconvert_exporter": "python",
   "pygments_lexer": "ipython3",
   "version": "3.6.1"
  }
 },
 "nbformat": 4,
 "nbformat_minor": 2
}
