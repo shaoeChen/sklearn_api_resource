{
 "cells": [
  {
   "cell_type": "markdown",
   "metadata": {},
   "source": [
    "[說明文件](https://hackmd.io/@shaoeChen/r1CQ9VY98)"
   ]
  },
  {
   "cell_type": "markdown",
   "metadata": {},
   "source": [
    "載入需求套件"
   ]
  },
  {
   "cell_type": "code",
   "execution_count": 54,
   "metadata": {},
   "outputs": [],
   "source": [
    "import pandas as pd\n",
    "import numpy as np\n",
    "\n",
    "from sklearn.preprocessing import RobustScaler"
   ]
  },
  {
   "cell_type": "markdown",
   "metadata": {},
   "source": [
    "設定資料"
   ]
  },
  {
   "cell_type": "code",
   "execution_count": 55,
   "metadata": {},
   "outputs": [],
   "source": [
    "X = np.array([[1, 9], [2, 8], [3, 7], [4, 6], [5, 5], [6, 4], [7, 3], [8, 2], [9, 1]])"
   ]
  },
  {
   "cell_type": "code",
   "execution_count": 56,
   "metadata": {},
   "outputs": [
    {
     "data": {
      "text/plain": [
       "(9, 2)"
      ]
     },
     "execution_count": 56,
     "metadata": {},
     "output_type": "execute_result"
    }
   ],
   "source": [
    "X.shape"
   ]
  },
  {
   "cell_type": "markdown",
   "metadata": {},
   "source": [
    "上面設置了9筆的假資料，我們使用RobustScaler來看看縮放之後的結果"
   ]
  },
  {
   "cell_type": "markdown",
   "metadata": {},
   "source": [
    "首先我們以預設置來縮放 "
   ]
  },
  {
   "cell_type": "code",
   "execution_count": 57,
   "metadata": {},
   "outputs": [],
   "source": [
    "robust = RobustScaler()"
   ]
  },
  {
   "cell_type": "code",
   "execution_count": 58,
   "metadata": {},
   "outputs": [],
   "source": [
    "X_robust = robust.fit_transform(X)"
   ]
  },
  {
   "cell_type": "code",
   "execution_count": 60,
   "metadata": {},
   "outputs": [
    {
     "name": "stdout",
     "output_type": "stream",
     "text": [
      "RobustScaler center_: \n",
      " [5. 5.]\n",
      "RobustScaler scale_: \n",
      " [4. 4.]\n"
     ]
    }
   ],
   "source": [
    "print(\"RobustScaler center_: \\n\" , robust.center_)\n",
    "print(\"RobustScaler scale_: \\n\" , robust.scale_)"
   ]
  },
  {
   "cell_type": "code",
   "execution_count": 59,
   "metadata": {},
   "outputs": [
    {
     "data": {
      "text/plain": [
       "array([[-1.  ,  1.  ],\n",
       "       [-0.75,  0.75],\n",
       "       [-0.5 ,  0.5 ],\n",
       "       [-0.25,  0.25],\n",
       "       [ 0.  ,  0.  ],\n",
       "       [ 0.25, -0.25],\n",
       "       [ 0.5 , -0.5 ],\n",
       "       [ 0.75, -0.75],\n",
       "       [ 1.  , -1.  ]])"
      ]
     },
     "execution_count": 59,
     "metadata": {},
     "output_type": "execute_result"
    }
   ],
   "source": [
    "X_robust"
   ]
  },
  {
   "cell_type": "markdown",
   "metadata": {},
   "source": [
    "現在我們來瞭解這個值是怎麼出現的"
   ]
  },
  {
   "cell_type": "markdown",
   "metadata": {},
   "source": [
    "下表劃出一個表格，我們有九筆資料(第一個row)八個區間(第二個row)，第三個row說明出每個區段的比例，也因此，四分位距中的Q1依著預設值為25%，也就是3，Q3為75%，也就是7，因此IQR，也就是四分位距為7-3=4，而中位數很明顯的就是5"
   ]
  },
  {
   "cell_type": "markdown",
   "metadata": {},
   "source": [
    "|   \t|      \t|   \t|      \t|   \t|      \t|   \t|      \t|   \t|      \t|   \t|      \t|   \t|      \t|   \t|       \t|   \t|\n",
    "|---\t|------\t|---\t|------\t|---\t|------\t|---\t|------\t|---\t|------\t|---\t|------\t|---\t|------\t|---\t|-------\t|---\t|\n",
    "| 1 \t|      \t| 2 \t|      \t| 3 \t|      \t| 4 \t|      \t| 5 \t|      \t| 6 \t|      \t| 7 \t|      \t| 8 \t|       \t| 9 \t|\n",
    "|   \t| 1    \t|   \t| 2    \t|   \t| 3    \t|   \t| 4    \t|   \t| 5    \t|   \t| 6    \t|   \t| 7    \t|   \t| 8     \t|   \t|\n",
    "|   \t| 12.5 \t|   \t| 25.0 \t|   \t| 37.5 \t|   \t| 50.0 \t|   \t| 62.6 \t|   \t| 75.0 \t|   \t| 87.5 \t|   \t| 100.0 \t|   \t|"
   ]
  },
  {
   "cell_type": "markdown",
   "metadata": {},
   "source": [
    "因此，上面我們得到的`scale_=4`，試著計算其中一個，以第二個值為範例：\n",
    "* (2 - 5) / 4 = -3 / 4 = -0.75"
   ]
  },
  {
   "cell_type": "markdown",
   "metadata": {},
   "source": [
    "第二個特徵可以自行驗證"
   ]
  },
  {
   "cell_type": "markdown",
   "metadata": {},
   "source": [
    "下面給出一個範例，這是來自[De-yu](https://de-yu-code.blogspot.com/2018/04/sklearnpreprocessingrobustscaler.html)的blogspot"
   ]
  },
  {
   "cell_type": "code",
   "execution_count": 61,
   "metadata": {},
   "outputs": [],
   "source": [
    "X_1 = np.array([[1 , 5],[2 , 9],[3 , 8],[4 , 3],[5 ,10],[6, 1],[7,6],[8,15],[9,0]])"
   ]
  },
  {
   "cell_type": "code",
   "execution_count": 48,
   "metadata": {},
   "outputs": [],
   "source": [
    "robust_1 = RobustScaler(quantile_range =(40,75))"
   ]
  },
  {
   "cell_type": "code",
   "execution_count": 49,
   "metadata": {},
   "outputs": [],
   "source": [
    "X_robust = robust_1.fit_transform(X_1)"
   ]
  },
  {
   "cell_type": "code",
   "execution_count": 50,
   "metadata": {},
   "outputs": [
    {
     "data": {
      "text/plain": [
       "array([[-1.42857143, -0.26315789],\n",
       "       [-1.07142857,  0.78947368],\n",
       "       [-0.71428571,  0.52631579],\n",
       "       [-0.35714286, -0.78947368],\n",
       "       [ 0.        ,  1.05263158],\n",
       "       [ 0.35714286, -1.31578947],\n",
       "       [ 0.71428571,  0.        ],\n",
       "       [ 1.07142857,  2.36842105],\n",
       "       [ 1.42857143, -1.57894737]])"
      ]
     },
     "execution_count": 50,
     "metadata": {},
     "output_type": "execute_result"
    }
   ],
   "source": [
    "X_robust"
   ]
  },
  {
   "cell_type": "code",
   "execution_count": 62,
   "metadata": {},
   "outputs": [
    {
     "name": "stdout",
     "output_type": "stream",
     "text": [
      "RobustScaler center_: \n",
      " [5. 6.]\n",
      "RobustScaler scale_: \n",
      " [2.8 3.8]\n"
     ]
    }
   ],
   "source": [
    "print(\"RobustScaler center_: \\n\" , robust_1.center_)\n",
    "print(\"RobustScaler scale_: \\n\" , robust_1.scale_)"
   ]
  },
  {
   "cell_type": "markdown",
   "metadata": {},
   "source": [
    "一樣的，劃出表格來做說明"
   ]
  },
  {
   "cell_type": "markdown",
   "metadata": {},
   "source": [
    "|   \t|      \t|   \t|      \t|   \t|      \t|   \t|      \t|   \t|      \t|   \t|      \t|   \t|      \t|    \t|       \t|    \t|\n",
    "|---\t|------\t|---\t|------\t|---\t|------\t|---\t|------\t|---\t|------\t|---\t|------\t|---\t|------\t|----\t|-------\t|----\t|\n",
    "| 0 \t|      \t| 1 \t|      \t| 3 \t|      \t| 5 \t|      \t| 6 \t|      \t| 8 \t|      \t| 9 \t|      \t| 10 \t|       \t| 15 \t|\n",
    "|   \t| 1    \t|   \t| 2    \t|   \t| 3    \t|   \t| 4    \t|   \t| 5    \t|   \t| 6    \t|   \t| 7    \t|    \t| 8     \t|    \t|\n",
    "|   \t| 12.5 \t|   \t| 25.0 \t|   \t| 37.5 \t|   \t| 50.0 \t|   \t| 62.6 \t|   \t| 75.0 \t|   \t| 87.5 \t|    \t| 100.0 \t|    \t|"
   ]
  },
  {
   "cell_type": "markdown",
   "metadata": {},
   "source": [
    "中位數很明顯的就是6，而四分距的Q3就是9，其中Q1因為我們在初始化的時候調整為40%，因此40%是介於5~6之間，其中於5的距離為40 - 37.5 = 2.5，於6的距離為50 - 40 = 10，5的部份比較近也因此有較大的權重，因此：\n",
    "* Q3 = 6 x 2.5 / 12.5 + 5 x 10 / 12.5 = 1.2 + 4 = 5.2"
   ]
  },
  {
   "cell_type": "markdown",
   "metadata": {},
   "source": [
    "四分位距 = Q3 - Q1 = 9 - 5.2 = 3.8，與上面程式執行所得相同，另一維度的部份也可以用相同的作法來驗證，這部份就留給使用者自己來動手計算看看了。"
   ]
  }
 ],
 "metadata": {
  "kernelspec": {
   "display_name": "Python 3",
   "language": "python",
   "name": "python3"
  },
  "language_info": {
   "codemirror_mode": {
    "name": "ipython",
    "version": 3
   },
   "file_extension": ".py",
   "mimetype": "text/x-python",
   "name": "python",
   "nbconvert_exporter": "python",
   "pygments_lexer": "ipython3",
   "version": "3.7.3"
  }
 },
 "nbformat": 4,
 "nbformat_minor": 2
}
